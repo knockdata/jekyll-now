{
 "cells": [
  {
   "cell_type": "code",
   "execution_count": 2,
   "metadata": {},
   "outputs": [
    {
     "name": "stdout",
     "output_type": "stream",
     "text": [
      "Hello word\n"
     ]
    }
   ],
   "source": [
    "String exp = \"Hello word\";\n",
    "System.out.println(exp);"
   ]
  },
  {
   "cell_type": "code",
   "execution_count": 7,
   "metadata": {},
   "outputs": [
    {
     "ename": "UnresolvedReferenceException",
     "evalue": "Attempt to use definition snippet with unresolved references in Snippet:ClassKey(HelloWorld)#22-class HelloWorld{\n    public static void main(String[] args) {\n        String exp = \"Hello word\";\n        System.out.println(v);\n    }\n\n}",
     "output_type": "error",
     "traceback": [
      "\u001b[1m\u001b[30m|   \u001b[1m\u001b[30mclass HelloWorld{\u001b[0m",
      "\u001b[1m\u001b[30m|   \u001b[1m\u001b[30m    public static void main(String[] args) {\u001b[0m",
      "\u001b[1m\u001b[30m|   \u001b[1m\u001b[30m        String exp = \"Hello word\";\u001b[0m",
      "\u001b[1m\u001b[30m|   \u001b[1m\u001b[30m        System.out.println(v);\u001b[0m",
      "\u001b[1m\u001b[30m|   \u001b[1m\u001b[30m    }\u001b[0m",
      "\u001b[1m\u001b[30m|   \u001b[1m\u001b[30m\u001b[0m",
      "\u001b[1m\u001b[30m|   \u001b[1m\u001b[30m}\u001b[0m",
      "\u001b[1m\u001b[31mUnresolved dependencies:\u001b[0m",
      "\u001b[1m\u001b[31m   - variable v\u001b[0m"
     ]
    }
   ],
   "source": [
    "HelloWorld.main(null)"
   ]
  },
  {
   "cell_type": "code",
   "execution_count": null,
   "metadata": {},
   "outputs": [],
   "source": [
    "// 相当于singleton\n",
    "object HelloWorld {\n",
    "    // object里的函数相当于静态函数\n",
    "    // args 参数名\n",
    "    // Array[String] 参数类型\n",
    "    // Unit 返回类型，相当于java的void\n",
    "    def main(args: Array[String]): Unit = {\n",
    "        // 定义字符串常量，相当于java的\n",
    "        // final String exp = \"Hello World\";\n",
    "        val exp: String = \"Hello World\"\n",
    " \n",
    "        // 编译器可以侦测到的类型不需要显式定义类型.\n",
    "        // 所以也可以写成下面的方式\n",
    "        // scala中有很多都可以省略，新做的编译器智能化多了.\n",
    "        // 最后的分号也是可以省略的。\n",
    "        // 不过Scala的Eclipse的插件如果没有；就会缩进。\n",
    "        val imp = \"Hello World\"\n",
    " \n",
    "        // 定义变量，相当于java的\n",
    "        // String v = \"Hello\"\n",
    "        var v = \"Hello\"\n",
    "        v += \" World\"\n",
    " \n",
    "        // 打印。相当于java的\n",
    "        // System.out.println(v);\n",
    "        println(v)\n",
    "    }\n",
    "}"
   ]
  }
 ],
 "metadata": {
  "kernelspec": {
   "display_name": "Java",
   "language": "java",
   "name": "java"
  },
  "language_info": {
   "codemirror_mode": "java",
   "file_extension": ".java",
   "mimetype": "text/x-java-source",
   "name": "Java",
   "pygments_lexer": "java",
   "version": "11.0.2+9-LTS"
  }
 },
 "nbformat": 4,
 "nbformat_minor": 2
}
