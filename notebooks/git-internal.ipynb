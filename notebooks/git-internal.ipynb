{
 "cells": [
  {
   "cell_type": "code",
   "execution_count": 1,
   "metadata": {},
   "outputs": [
    {
     "name": "stdout",
     "output_type": "stream",
     "text": [
      "Initialized empty Git repository in /Users/royan/git/knockdata.github.io/notebooks/internal/.git/\r\n"
     ]
    }
   ],
   "source": [
    "!git init internal"
   ]
  },
  {
   "cell_type": "code",
   "execution_count": 3,
   "metadata": {},
   "outputs": [
    {
     "name": "stdout",
     "output_type": "stream",
     "text": [
      "/bin/sh: line 0: cd: internal: No such file or directory\r\n"
     ]
    }
   ],
   "source": [
    "!cd internal"
   ]
  },
  {
   "cell_type": "code",
   "execution_count": 6,
   "metadata": {},
   "outputs": [
    {
     "name": "stdout",
     "output_type": "stream",
     "text": [
      ".git\r\n",
      ".git/config\r\n",
      ".git/objects\r\n",
      ".git/objects/pack\r\n",
      ".git/objects/info\r\n",
      ".git/HEAD\r\n",
      ".git/info\r\n",
      ".git/info/exclude\r\n",
      ".git/description\r\n",
      ".git/hooks\r\n",
      ".git/hooks/commit-msg.sample\r\n",
      ".git/hooks/pre-rebase.sample\r\n",
      ".git/hooks/pre-commit.sample\r\n",
      ".git/hooks/applypatch-msg.sample\r\n",
      ".git/hooks/fsmonitor-watchman.sample\r\n",
      ".git/hooks/pre-receive.sample\r\n",
      ".git/hooks/prepare-commit-msg.sample\r\n",
      ".git/hooks/post-update.sample\r\n",
      ".git/hooks/pre-merge-commit.sample\r\n",
      ".git/hooks/pre-applypatch.sample\r\n",
      ".git/hooks/pre-push.sample\r\n",
      ".git/hooks/update.sample\r\n",
      ".git/refs\r\n",
      ".git/refs/heads\r\n",
      ".git/refs/tags\r\n"
     ]
    }
   ],
   "source": [
    "!find .git"
   ]
  },
  {
   "cell_type": "code",
   "execution_count": 7,
   "metadata": {},
   "outputs": [],
   "source": [
    "!rm -rf .git/hooks"
   ]
  },
  {
   "cell_type": "markdown",
   "metadata": {},
   "source": [
    "## Monitor file changes\n",
    "\n",
    "Run the following command in a separate command \n",
    "\n",
    "    while true; do clear; tree .git; sleep 1; done;\n",
    "    \n",
    "Might need install tree command\n",
    "\n",
    "    brew install tree"
   ]
  },
  {
   "cell_type": "markdown",
   "metadata": {},
   "source": [
    "## Nothing yet\n",
    "\n",
    "\n",
    "    >> git log\n",
    "    fatal: your current branch 'master' does not have any commits yet\n",
    "    \n",
    "    >> git status\n",
    "    On branch master\n",
    "\n",
    "    No commits yet\n",
    "\n",
    "    nothing to commit (create/copy files and use \"git add\" to track)"
   ]
  },
  {
   "cell_type": "markdown",
   "metadata": {},
   "source": [
    "## Create Object\n",
    "\n",
    "Create an object\n",
    "\n",
    "    >> echo \"first line\" | git hash-object -w --stdin\n",
    "    08fe2720d8e3fe3a5f81fbb289bc4c7a522f13da\n",
    "    \n",
    "An object shall be created under `.git/objects/08/fe...`\n",
    "\n",
    "Get content by command, we only need first few hash id if it's identical\n",
    "\n",
    "    git cat-file -p 08fe\n",
    "    \n",
    "Get the type by command, which will get back type `blob`\n",
    "\n",
    "    git cat-file -t 08fe"
   ]
  },
  {
   "cell_type": "markdown",
   "metadata": {},
   "source": [
    "## Add Index\n",
    "    \n",
    "We only have an object now. Add to index by command. we need the full sha1 this time. \n",
    "\n",
    "    git update-index --add --cacheinfo 100644 08fe2720d8e3fe3a5f81fbb289bc4c7a522f13da file1.txt\n",
    "    \n",
    "If we run git status, it will say. \n",
    "\n",
    "    Changes to be committed:\n",
    "      (use \"git rm --cached <file>...\" to unstage)\n",
    "        new file:   file1.txt\n",
    "\n",
    "    Changes not staged for commit:\n",
    "      (use \"git add/rm <file>...\" to update what will be committed)\n",
    "      (use \"git restore <file>...\" to discard changes in working directory)\n",
    "        deleted:    file1.txt\n",
    "        \n",
    "Now the file has added to the index. We can see file1.txt is in file .git/index. Though there are lots of strange characters.\n",
    "\n",
    "    cat .git/index"
   ]
  },
  {
   "cell_type": "markdown",
   "metadata": {},
   "source": [
    "## Add to tree\n",
    "\n",
    "Add the index with the tree by command\n",
    "\n",
    "    >> git write-tree\n",
    "    \n",
    "    a156bcae5181f14958609bc0a6337fe78e8f8ba9\n",
    "    \n",
    "A new file added in `.git/objects/a1/56..`   \n",
    "\n",
    "Add the index with the tree by command\n",
    "\n",
    "    >> git cat-file -t a156\n",
    "    tree\n",
    "    \n",
    "    >> git cat-file -p a156\n",
    "    100644 blob 08fe2720d8e3fe3a5f81fbb289bc4c7a522f13da\tfile1.txt\n",
    "\n",
    "The content is in binary format. By cat will not see reasonable text.\n",
    "\n",
    "    >> cat objects/a1/56bcae5181f14958609bc0a6337fe78e8f8ba9 "
   ]
  },
  {
   "cell_type": "markdown",
   "metadata": {},
   "source": [
    "## Add commit\n",
    "\n",
    "\n",
    "    >> git commit-tree a156bcae5181f14958609bc0a6337fe78e8f8ba9 -m \"first file\"\n",
    "    12418a43a7ec0b243f1e391e175e971aef4f3a14\n",
    "    \n",
    "A new file added in `.git/objects/12/41...`\n",
    "\n"
   ]
  },
  {
   "cell_type": "markdown",
   "metadata": {},
   "source": [
    "## HEAD\n",
    "\n",
    "HEAD is now point to refs/heads/master. \n",
    "\n",
    "    >> cat .git/HEAD \n",
    "    ref: refs/heads/master\n",
    "    \n",
    "While there is no master yet. update master to point to previous commit with command.\n",
    "\n",
    "    git update-ref refs/heads/master 12418a43a7ec0b243f1e391e175e971aef4f3a14\n",
    "    \n",
    "This is actually is a pointer.\n",
    "\n",
    "    >> cat .git/refs/heads/master \n",
    "    12418a43a7ec0b243f1e391e175e971aef4f3a14\n",
    "    \n",
    "    \n",
    "Now we can run git log to get the first commit.\n",
    "\n",
    "    git log"
   ]
  },
  {
   "cell_type": "markdown",
   "metadata": {},
   "source": [
    "## Update working directory\n",
    "\n",
    "It will report `deleted:    file1.txt` if we run git status. The reason is that we only add the to repo but have not added to the working directory. \n",
    "\n",
    "We can pull the content in the repo to the working directory by. -- is a separator between command and files.\n",
    "\n",
    "    >> git checkout HEAD -- file1.txt\n",
    "    \n",
    "or just by \n",
    "\n",
    "    >> git reset --hard"
   ]
  },
  {
   "cell_type": "markdown",
   "metadata": {},
   "source": [
    "## The normal way\n",
    "\n",
    "    git init\n",
    "    rm -rf .git/hooks\n",
    "    echo \"first line\" >> file1.txt\n",
    "    chmod 100644 file1.txt\n",
    "    git add .\n",
    "    git commit -m \"first file\"\n",
    "    \n",
    "    \n",
    "The tree's SHA1 will be different due to timestamp different. other objects shall have the same SHA1"
   ]
  },
  {
   "cell_type": "code",
   "execution_count": null,
   "metadata": {},
   "outputs": [],
   "source": []
  }
 ],
 "metadata": {
  "kernelspec": {
   "display_name": "Python 3",
   "language": "python",
   "name": "python3"
  },
  "language_info": {
   "codemirror_mode": {
    "name": "ipython",
    "version": 3
   },
   "file_extension": ".py",
   "mimetype": "text/x-python",
   "name": "python",
   "nbconvert_exporter": "python",
   "pygments_lexer": "ipython3",
   "version": "3.7.1"
  }
 },
 "nbformat": 4,
 "nbformat_minor": 2
}
