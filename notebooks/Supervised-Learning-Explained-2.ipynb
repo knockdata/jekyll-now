{
 "cells": [
  {
   "cell_type": "markdown",
   "metadata": {},
   "source": [
    "## Why Low Accuracy with Logistics Regression\n",
    "\n",
    "Logistics Regression use following equations\n",
    "\n",
    "$$z=w_1x_1+w_2x_2+w_3x_3+...+w_nx_n+b$$\n",
    "\n",
    "$$y=\\sigma(z)=\\frac 1{1+e^{-z}}$$\n",
    "\n",
    "So basically, it is just put a weight on each pixel, and adding a bias afterwards. \n",
    "\n",
    "It's an extreme simple algorithm with just one neural. It's a linear algorithm. While the world is not linear, so it can just catch part of the features. It is not bad to achieve 70% accuracy. "
   ]
  },
  {
   "cell_type": "markdown",
   "metadata": {},
   "source": [
    "## From Logistic Regression to 2 Layers Neural Network\n",
    "\n",
    "By adding one more layer in the algorithm, the accuracy will be improved quite bit. \n",
    "\n",
    "![Logistic-Regression-2Layers-NN](../images/Logistic-Regression-2Layers-NN.png)"
   ]
  },
  {
   "cell_type": "markdown",
   "metadata": {},
   "source": [
    "## Forward Propagation Equations\n",
    "\n",
    "Here are **forward propagation** equations for the 2 layers neural network. It use tanh activation function in this case.\n",
    "\n",
    "$$\\begin{align*} \n",
    "Z^1 &= W^1\\cdot X + b^1 \\\\\n",
    "[n_1, m] &\\Leftarrow [n_1, n_x] \\cdot  [n_x, m] + [n_1, 1]\\\\\n",
    "A^1 &= tanh (Z^1)\\\\\n",
    "Z^2 &= W^2\\cdot Z^1 + b^2 \\\\\n",
    "[n_y, m] &\\Leftarrow [n_y, n_1] \\cdot  [n_1, m] + [n_y, 1]\\\\\n",
    "A^1 &= \\sigma (Z^2)\n",
    "\\end{align*} $$\n",
    "\n",
    "With these equation, it can be transformed to the following Python code\n",
    "\n",
    "```python\n",
    "import numpy as np\n",
    "Z1 = np.dot(W1, X) + b1\n",
    "A1 = np.tanh(Z1)\n",
    "Z2 = np.dot(W2, A1) + b2\n",
    "A2 = 1.0 / (1.0 + np.exp(-Z2))\n",
    "```    "
   ]
  },
  {
   "cell_type": "markdown",
   "metadata": {},
   "source": [
    "## Forward Propagation Dimensions\n",
    "\n",
    "In the cat/none-cat classification problem, \n",
    "\n",
    "- \\\\(n_x=64*64*3\\\\), the input dimension, \n",
    "- \\\\(n_y = 1\\\\), the out dimension, only one value\n",
    "- \\\\(n_1=10\\\\), if just pick the hidden layer size. This number will be adjusted later in the blog to test different accuracy result.\n",
    "\n",
    "\n",
    "For all the variables used in the forward propagation have shape\n",
    "\n",
    "|parameter|shape|shape value|\n",
    "|:--------|:----|:----------|\n",
    "| X       | [n_x, m]  | [12288, m]|\n",
    "| A1/Z1   | [n_1, m]  | [10, m]\n",
    "| Y/A2/Z2 | [n_y, m]  | [1, m]|\n",
    "| W1      | [n_1, n_x]| [10,12288]|\n",
    "| b1      | [n_1, 1]  | [10, 1] |\n",
    "| W2      | [n_y, n_1]| [1,10]|\n",
    "| b2      | [n_y, 1]  | [1, 1]|"
   ]
  },
  {
   "cell_type": "markdown",
   "metadata": {},
   "source": [
    "Counting with the number of total parameters. Since the number of input feature(12288) is large. So the weight of the first layer has the largest parameters.\n",
    "\n",
    "$$\\begin{align*} \n",
    "n_1*n_x\\ +\\ n_1 * 1\\ +\\ n_y * n_1\\ +\\ n_y * 1 \n",
    "&= n_1*n_x\\ +\\ n_1 * 1\\ +\\ 1 * n_1\\ +\\ 1 * 1 \\\\\n",
    "&= n_1*n_x + 2n_1 + 1 \\\\\n",
    "&\\approx n_1*n_x\n",
    "\\end{align*} $$"
   ]
  },
  {
   "cell_type": "markdown",
   "metadata": {},
   "source": [
    "## Propagation Implementation\n",
    "\n",
    "With all the equations, propagations for 2 layers neural network can be implemented like this"
   ]
  },
  {
   "cell_type": "code",
   "execution_count": 6,
   "metadata": {
    "collapsed": true
   },
   "outputs": [],
   "source": [
    "import numpy as np\n",
    "def propagate(W1, b1, W2, b2, X, Y):\n",
    "    \"\"\"\n",
    "    X: [n_x, m]      train data set\n",
    "    Y: [n_y,  m]     label data\n",
    "    W1:[n_1, n_x]    weight for the first layer\n",
    "    b1:[n_1, 1]      bias for the first layer\n",
    "    W2:[n_y, n_1]    weight for the second layer\n",
    "    b1:[n_y, 1]      bias for the first layer\n",
    "    returns:         dW1, db1, dW2, db2, A2\n",
    "    \"\"\"\n",
    "    Z1 = np.dot(W1, X) + b1                     # [n_1, m]   <= [n_1, n_x] . [n_x, m]\n",
    "    A1 = np.tanh(Z1)                            # [n_1, m]  \n",
    "    Z2 = np.dot(W2, A1) + b2                    # [n_y, m]   <= [n_y, n_1] . [n_1, m]\n",
    "    A2 = 1.0 / (1.0 + np.exp(-Z2))              # [n_y, m]  \n",
    "    \n",
    "    dZ2 = A2 - Y                                # [n_y, m] \n",
    "    dW2 = np.dot(dZ2, A1.T)                     # [n_y, n_1] <= [n_y, m] .   [n_1, m].T\n",
    "    db2 = np.sum(dZ2, axis=1, keepdims=True)    # [n_y, 1]   <= [n_y, m]\n",
    "    \n",
    "    dgZ1 = 1 - np.power(A1, 2)                  # [n_1, m]\n",
    "    dZ1  = np.multiply(np.dot(W2.T, dZ2), dgZ1) # [n_1, m]   <= [n_y, n_1].T . [n_y, m]\n",
    "    dW1  = np.dot(dZ1, X.T)                     # [n_1, n_x] <= [n_1, m]     . [n_x, m].T\n",
    "    db1  = np.sum(dZ1, axis=1, keepdims=True)   # [n1, 1]    <= [n_1, m]\n",
    "    \n",
    "    return dW1, db1, dW2, db2, A2"
   ]
  },
  {
   "cell_type": "markdown",
   "metadata": {
    "collapsed": true
   },
   "source": [
    "And the whole training model can be implemented like this"
   ]
  },
  {
   "cell_type": "code",
   "execution_count": 10,
   "metadata": {
    "collapsed": true
   },
   "outputs": [],
   "source": [
    "def nn_2_layers(X, Y, n_1, num_iterations=10, learning_rate=0.01, early_stop_cost=0.):\n",
    "    \"\"\"\n",
    "    X: [n_x, m]      train data set\n",
    "    Y: [n_y, m]      n_y=1 in this case\n",
    "    n_1:             first hidden layer dimension\n",
    "    num_iterations:  number iterations\n",
    "    learning_rate:   learning rate, alpha\n",
    "    early_stop_cost: early stop cost, if the cost small than this number, the train will stop\n",
    "    returns:         W1, b1, W2, b2, A, i (A, is the output, i is the number of iterations)\n",
    "    \"\"\"\n",
    "    n_x, m = X.shape\n",
    "    n_y = 1\n",
    "    \n",
    "    W1 = np.random.randn(n_1, n_x) * 0.01\n",
    "    b1 = np.zeros([n_1, 1])\n",
    "    W2 = np.random.randn(n_y, n_1) * 0.01\n",
    "    b2 = np.zeros([n_y, 1])\n",
    "    print(\"init weights\", W1[0][0], W2[0][0])\n",
    "        \n",
    "    costs = []\n",
    "    \n",
    "    for i in range(num_iterations):\n",
    "        dW1, db1, dW2, db2, A = propagate(W1, b1, W2, b2, X, Y)\n",
    "        print(i, \" derivitive\", dW1[0][0], dW2[0][0], db1[0][0], db2[0][0])\n",
    "        \n",
    "        W1 = W1 - learning_rate * dW1\n",
    "        b1 = b1 - learning_rate * db1\n",
    "        W2 = W2 - learning_rate * dW2\n",
    "        b2 = b2 - learning_rate * db2\n",
    "        print(i, \" weights\", W1[0][0], W2[0][0])\n",
    "        \n",
    "        \n",
    "        cost = -(np.dot(Y, np.log(A.T)) + np.dot(1-Y, np.log(1-A.T))) / m\n",
    "        cost = np.squeeze(cost)\n",
    "        costs.append(cost)\n",
    "        \n",
    "        if cost < early_stop_cost:\n",
    "            break\n",
    "            \n",
    "        if i % 100 == 0:\n",
    "            print(i, cost)\n",
    "\n",
    "    print(i, cost)\n",
    "    \n",
    "    return W1, b1, W2, b2, A, i"
   ]
  },
  {
   "cell_type": "markdown",
   "metadata": {},
   "source": [
    "## Load the Same Data as Previous blog"
   ]
  },
  {
   "cell_type": "code",
   "execution_count": 11,
   "metadata": {
    "collapsed": true
   },
   "outputs": [],
   "source": [
    "import numpy as np\n",
    "import h5py\n",
    "    \n",
    "    \n",
    "train_dataset = h5py.File('../datasets/train_catvnoncat.h5', \"r\")\n",
    "train_set_x_orig = np.array(train_dataset[\"train_set_x\"][:]) # your train set features\n",
    "train_set_y_orig = np.array(train_dataset[\"train_set_y\"][:]) # your train set labels\n",
    "\n",
    "test_dataset = h5py.File('../datasets/test_catvnoncat.h5', \"r\")\n",
    "test_set_x_orig = np.array(test_dataset[\"test_set_x\"][:]) # your test set features\n",
    "test_set_y_orig = np.array(test_dataset[\"test_set_y\"][:]) # your test set labels\n",
    "\n",
    "classes = np.array(test_dataset[\"list_classes\"][:]) # the list of classes\n",
    "\n",
    "train_set_y = train_set_y_orig.reshape((1, train_set_y_orig.shape[0]))\n",
    "test_set_y = test_set_y_orig.reshape((1, test_set_y_orig.shape[0]))"
   ]
  },
  {
   "cell_type": "code",
   "execution_count": 12,
   "metadata": {},
   "outputs": [
    {
     "name": "stdout",
     "output_type": "stream",
     "text": [
      "(12288, 209) (12288, 50)\n"
     ]
    }
   ],
   "source": [
    "m_train = train_set_x_orig.shape[0]                           # number of train samples\n",
    "m_test = test_set_x_orig.shape[0]                             # number of test samples\n",
    "num_px = train_set_x_orig.shape[1]                            # number pixel on x and y dimension\n",
    "\n",
    "train_set_x = train_set_x_orig.reshape(m_train, -1).T / 255   # normalize pixel value to [0, 1]\n",
    "test_set_x = test_set_x_orig.reshape(m_test, -1).T / 255\n",
    "\n",
    "print(train_set_x.shape, test_set_x.shape)"
   ]
  },
  {
   "cell_type": "markdown",
   "metadata": {},
   "source": [
    "## Train with 2 layer neural network"
   ]
  },
  {
   "cell_type": "code",
   "execution_count": 13,
   "metadata": {},
   "outputs": [
    {
     "name": "stdout",
     "output_type": "stream",
     "text": [
      "0 0.6797230645612498\n",
      "100 0.5684633146305869\n",
      "200 0.3811572089304477\n",
      "300 0.28990790308726083\n",
      "400 0.3779718258473503\n",
      "500 0.12553875998165756\n",
      "530 0.09870131411447255\n",
      "total training time 277.2903702259064\n"
     ]
    }
   ],
   "source": [
    "import time\n",
    "start = time.time()\n",
    "np.random.seed(1)     # set seed, so that the result is comparable \n",
    "W1, b1, W2, b2, A, i = nn_2_layers(train_set_x, train_set_y, n_1=100, \n",
    "                                num_iterations = 2001, learning_rate = 0.0003, early_stop_cost=0.1)\n",
    "\n",
    "print(\"total training time\", time.time() - start)"
   ]
  },
  {
   "cell_type": "markdown",
   "metadata": {},
   "source": [
    "## Accuracy for Train and Test Data Set\n",
    "\n",
    "Accuracy for train set is used to measure how good the model is, for the data it has seen.\n",
    "\n",
    "Accuracy for train set is used to measure how good the model is, for the data it has **NOT** seen. \n",
    "In other words, it is used to measure how general the model is.\n",
    "\n",
    "With the model we get, we can write followning code to get the accuracy"
   ]
  },
  {
   "cell_type": "code",
   "execution_count": 15,
   "metadata": {
    "collapsed": true
   },
   "outputs": [],
   "source": [
    "def accuracy(W1, b1, W2, b2, A):\n",
    "    train_predict = np.where(A >= 0.5, 1, 0)\n",
    "    train_accuracy = np.sum(train_predict == train_set_y) / train_set_y.shape[1]\n",
    "    print(\"train accuracy\", train_accuracy)\n",
    "\n",
    "\n",
    "    X = test_set_x\n",
    "    Z1 = np.dot(W1, X) + b1                     # [n_1, n_x] . [n_x, m]     => [n_1, m]        \n",
    "    A1 = np.tanh(Z1)                            #                              [n_1, m]  \n",
    "    Z2 = np.dot(W2, A1) + b2                    # [n_y, n_1] . [n_1, m]     => [n_y, m]\n",
    "    A2 = 1.0 / (1.0 + np.exp(-Z2))              #                              [n_y, m]\n",
    "    \n",
    "    test_predict = np.where(A2 >= 0.5, 1, 0)    \n",
    "    test_accuracy = np.sum(test_predict == test_set_y) / test_set_y.shape[1]\n",
    "    print(\"test accuracy\", test_accuracy)\n",
    "\n",
    "    return train_predict, train_accuracy, test_predict, test_accuracy"
   ]
  },
  {
   "cell_type": "code",
   "execution_count": 16,
   "metadata": {},
   "outputs": [
    {
     "name": "stdout",
     "output_type": "stream",
     "text": [
      "train accuracy 0.980861244019\n",
      "test accuracy 0.8\n"
     ]
    }
   ],
   "source": [
    "train_predict, train_accuracy, test_predict, test_accuracy = accuracy(W1, b1, W2, b2, A)"
   ]
  },
  {
   "cell_type": "markdown",
   "metadata": {},
   "source": [
    "## Results with Different Hyper Parameters\n",
    "\n",
    "Choose different hyper parameters will get different result. \n",
    "\n",
    "Here are some results from variance configurations. The best test accuracy got is 80%, better then 70% with logistics regression. From the test, we also see that the accuracy is not always higher when use more neurals."
   ]
  },
  {
   "cell_type": "markdown",
   "metadata": {},
   "source": [
    "|n_1|learning rate | stop cost | # iterations| training time | train set accuracy | test accuracy |\n",
    "|:----|:----|:----------|\n",
    "| 100 |0.0003 | 0.1  | 2000  |  8 |1 | 0.78 |\n",
    "| 100 |0.0003 | 0.002  | 2000  |  34 |1 | 0.76 |\n",
    "| 500 |0.0003 | 0.1      | 471  |  60 |0.9856 | 0.78 |\n",
    "| 500 |0.0003 | 0.00187  | 2000  |  260 |1 | 0.76 |\n",
    "| 1000 |0.0003 | 0.1  | 480  |  128 |0.98 | 0.8 |\n",
    "| 1000 |0.0003 | 0.0017  | 2000  |  530 |1 | 0.74 |\n",
    "| 2000 |0.0003 | 0.1  | 2000  |  530 |1 | 0.74 |"
   ]
  },
  {
   "cell_type": "markdown",
   "metadata": {},
   "source": [
    "## Show Wrong Classficiations"
   ]
  },
  {
   "cell_type": "code",
   "execution_count": 20,
   "metadata": {},
   "outputs": [
    {
     "name": "stdout",
     "output_type": "stream",
     "text": [
      "wrong predict on train sample  68  to  [0] which should be [1]\n"
     ]
    },
    {
     "data": {
      "text/plain": [
       "<matplotlib.image.AxesImage at 0x7f8fa608f5f8>"
      ]
     },
     "execution_count": 20,
     "metadata": {},
     "output_type": "execute_result"
    },
    {
     "data": {
      "image/png": "[encoded data removed]",
      "text/plain": [
       "<matplotlib.figure.Figure at 0x7f8fa6178a58>"
      ]
     },
     "metadata": {},
     "output_type": "display_data"
    }
   ],
   "source": [
    "import matplotlib.pyplot as plt\n",
    "%matplotlib inline\n",
    "wrong_index = np.argmax(train_predict != train_set_y)\n",
    "print(\"wrong predict on train sample \", wrong_index, \" to \", train_predict[:, wrong_index], \n",
    "      \"which should be\", train_set_y[:, wrong_index])\n",
    "plt.imshow(train_set_x_orig[wrong_index])\n"
   ]
  },
  {
   "cell_type": "code",
   "execution_count": 21,
   "metadata": {},
   "outputs": [
    {
     "name": "stdout",
     "output_type": "stream",
     "text": [
      "wrong predict on test sample  6  to  [0] which should be [1]\n"
     ]
    },
    {
     "data": {
      "text/plain": [
       "<matplotlib.image.AxesImage at 0x7f8fa601f080>"
      ]
     },
     "execution_count": 21,
     "metadata": {},
     "output_type": "execute_result"
    },
    {
     "data": {
      "image/png": "[encoded data removed]",
      "text/plain": [
       "<matplotlib.figure.Figure at 0x7f8fa614c4e0>"
      ]
     },
     "metadata": {},
     "output_type": "display_data"
    }
   ],
   "source": [
    "import matplotlib.pyplot as plt\n",
    "%matplotlib inline\n",
    "wrong_index = np.argmax(test_predict != test_set_y)\n",
    "print(\"wrong predict on test sample \", wrong_index, \" to \", test_predict[:, wrong_index], \n",
    "      \"which should be\", test_set_y[:, wrong_index])\n",
    "plt.imshow(test_set_x_orig[wrong_index])\n",
    "\n"
   ]
  },
  {
   "cell_type": "markdown",
   "metadata": {},
   "source": [
    "## Goes to More Layers\n",
    "\n",
    "In the code written before, it is fixed to 2 layers. \n",
    "\n",
    "With a little bit extension, it will be able to extend to multiple layers."
   ]
  },
  {
   "cell_type": "code",
   "execution_count": 67,
   "metadata": {
    "collapsed": true
   },
   "outputs": [],
   "source": [
    "import numpy as np\n",
    "def propagate_n_layer(W, b, X, Y, iter_i):\n",
    "    \"\"\"\n",
    "    X: [n_x, m]\n",
    "    Y: [n_y  m]\n",
    "    A1:[n_1, m]\n",
    "    A2:[n_y, m]\n",
    "    W1:[n_1, n_x]\n",
    "    b1:[n_1, 1]\n",
    "    W2:[n_y, n_1]\n",
    "    b1:[n_y, 1]\n",
    "    \"\"\"\n",
    "    \n",
    "    L = len(W) - 1\n",
    "    \n",
    "    dA = [l for l in range(L + 1)] # index 0 not used\n",
    "    dZ = [l for l in range(L + 1)]\n",
    "    dW = [l for l in range(L + 1)]\n",
    "    db = [l for l in range(L + 1)]\n",
    "    Z  = [l for l in range(L + 1)]\n",
    "    A  = [l for l in range(L + 1)]\n",
    "    \n",
    "    A[0] = X\n",
    "\n",
    "    # Forward propagation, exclude the last layer\n",
    "    # Using tanh as the activation function\n",
    "    for l in range(1, L):\n",
    "        Z[l] = np.dot(W[l], A[l - 1]) + b[l] # (n[l], m) <= (n[l], n[l-1]) . (n[l-1], m) + (n[l], 1)\n",
    "        A[l] = np.tanh(Z[l])\n",
    "    \n",
    "        if iter_i == 0 and 'debug' in globals() and debug:\n",
    "            shape_info = \"Z[l] = np.dot(W[l], A[l - 1]) + b[l] {shape1} <= {shape2} . {shape3} + {shape4}\".format(\n",
    "                shape1=Z[l].shape, shape2=W[l].shape, shape3=A[l-1].shape, shape4=b[l].shape)\n",
    "            print(l, shape_info)\n",
    "\n",
    "    # Forward propagation for the last layer\n",
    "    # Using sigmoid as the activation function\n",
    "    Z[L] = np.dot(W[L], A[L - 1]) + b[L]\n",
    "    A[L] = 1.0 / (1.0 + np.exp(-Z[L]))       # sigmoid\n",
    "    \n",
    "    # Backward propagation for the last layer\n",
    "    dA[L] = -(np.divide(Y, A[L]) - np.divide(1 - Y, 1 - A[L]))\n",
    "    # The way to calculate dZL is different than other layers, due to different activation function\n",
    "    dZ[L] = A[L] - Y\n",
    "    dW[L] = np.dot(dZ[L], A[L-1].T)\n",
    "    db[L] = np.sum(dZ[L], axis=1, keepdims=True)\n",
    "\n",
    "    # Backward propagation for other layers\n",
    "    for l in reversed(range(1, L)):\n",
    "        if iter_i == 0 and 'debug' in globals() and debug:\n",
    "            print(l, \"W[l].shape\", W[l].shape, \"dZ[l+1].shape\", dZ[l+1])\n",
    "\n",
    "        dgZl = 1 - np.power(A[l], 2)\n",
    "    \n",
    "        dZ[l] = np.multiply(np.dot(W[l+1].T, dZ[l+1]), dgZl)\n",
    "\n",
    "        dW[l] = np.dot(dZ[l], A[l-1].T)\n",
    "        db[l] = np.sum(dZ[l], axis=1, keepdims=True)\n",
    "        \n",
    "    return dW, db, A[L]"
   ]
  },
  {
   "cell_type": "code",
   "execution_count": 68,
   "metadata": {
    "collapsed": true
   },
   "outputs": [],
   "source": [
    "def neural_network(X, Y, hidden_layer_dims, num_iterations=10, learning_rate=0.01, early_stop_cost=0.):\n",
    "    \"\"\"\n",
    "    X:                 train input\n",
    "    Y:                 train labels\n",
    "    hidden_layer_dims: all hidden layer units\n",
    "    \"\"\"\n",
    "    n_x, m = X.shape\n",
    "    n_y, _ = Y.shape\n",
    "\n",
    "    # And input layer, and output layer\n",
    "    layer_dims = [n_x] + hidden_layer_dims + [n_y] \n",
    "    L = len(layer_dims) - 1\n",
    "    \n",
    "    W = [l for l in range(L + 1)] # W[0] - W[L], W[0] is not used\n",
    "    b = [l for l in range(L + 1)] # b[0] - b[L], b[0] is not used\n",
    "    \n",
    "    # Initialize parameters\n",
    "    for l in range(1, L + 1): # 1 - L\n",
    "        print(l, layer_dims)\n",
    "        print(layer_dims[l], layer_dims[l-1])\n",
    "        W[l] = np.random.randn(layer_dims[l], layer_dims[l-1]) * 0.01 # (n[l], n[l-1])\n",
    "        b[l] = np.zeros((layer_dims[l], 1))\n",
    "\n",
    "    # print one param for debug\n",
    "    if 'debug' in globals() and debug:\n",
    "        print(\"init weights\", W[1][0][0], W[2][0][0])\n",
    "    \n",
    "    costs = []\n",
    "    for i in range(num_iterations):\n",
    "        dW, db, A = propagate_n_layer(W, b, X, Y, i)\n",
    "        \n",
    "        if 'debug' in globals() and debug:\n",
    "            print(i, \" derivitive\", dW[1][0][0], dW[2][0][0])\n",
    "            print(i, \" derivitive\", db[1][0][0], db[2][0][0])\n",
    "\n",
    "        # update parameters\n",
    "        for l in range(1, L + 1):\n",
    "            W[l] = W[l] - learning_rate * dW[l]\n",
    "            b[l] = b[l] - learning_rate * db[l]\n",
    "            \n",
    "        if 'debug' in globals() and debug:        \n",
    "            print(i, \"init weights\", W1[0][0], W2[0][0])\n",
    "\n",
    "        # calculate cost\n",
    "        cost = -(np.dot(Y, np.log(A.T)) + np.dot(1-Y, np.log(1-A.T))) / m\n",
    "        cost = np.squeeze(cost)\n",
    "        costs.append(cost)\n",
    "        \n",
    "        if cost < early_stop_cost:\n",
    "            break\n",
    "            \n",
    "        if i % 100 == 0:\n",
    "            print(i, cost)\n",
    "\n",
    "    print(i, cost)\n",
    "    \n",
    "    return W, b, A, i"
   ]
  },
  {
   "cell_type": "markdown",
   "metadata": {},
   "source": [
    "## Sanity Check for the Multi Layer Code\n",
    "\n",
    "Run training with same configuration to see if it has same result"
   ]
  },
  {
   "cell_type": "code",
   "execution_count": 69,
   "metadata": {},
   "outputs": [
    {
     "name": "stdout",
     "output_type": "stream",
     "text": [
      "1 [12288, 1000, 1]\n",
      "1000 12288\n",
      "2 [12288, 1000, 1]\n",
      "1 1000\n",
      "1 Z[l] = np.dot(W[l], A[l - 1]) + b[l] (1000, 209) <= (1000, 12288) . (12288, 209) + (1000, 1)\n",
      "0 0.694301029605467\n",
      "100 1.1644486142390922\n",
      "200 0.4308861012151221\n",
      "300 0.4838052388941754\n",
      "400 0.219155221014427\n",
      "500 0.12543546159127436\n",
      "506 0.09932901123996472\n",
      "total training time 143.7541217803955\n"
     ]
    }
   ],
   "source": [
    "import time\n",
    "start = time.time()\n",
    "\n",
    "np.random.seed(1)\n",
    "W, b, A, i = neural_network(train_set_x, train_set_y, hidden_layer_dims=[1000], \n",
    "                                num_iterations = 2001, learning_rate = 0.0003, early_stop_cost=0.1)\n",
    "\n",
    "print(\"total training time\", time.time() - start)"
   ]
  },
  {
   "cell_type": "code",
   "execution_count": 70,
   "metadata": {},
   "outputs": [
    {
     "name": "stdout",
     "output_type": "stream",
     "text": [
      "train accuracy 0.971291866029\n",
      "test accuracy 0.78\n"
     ]
    }
   ],
   "source": [
    "train_predict, train_accuracy, test_predict, test_accuracy = accuracy(W[1], b[1], W[2], b[2], A)"
   ]
  },
  {
   "cell_type": "markdown",
   "metadata": {},
   "source": [
    "## Train with Multiple Layers"
   ]
  },
  {
   "cell_type": "code",
   "execution_count": 86,
   "metadata": {},
   "outputs": [
    {
     "name": "stdout",
     "output_type": "stream",
     "text": [
      "1 [12288, 4000, 1000, 100, 1]\n",
      "4000 12288\n",
      "2 [12288, 4000, 1000, 100, 1]\n",
      "1000 4000\n",
      "3 [12288, 4000, 1000, 100, 1]\n",
      "100 1000\n",
      "4 [12288, 4000, 1000, 100, 1]\n",
      "1 100\n",
      "1 Z[l] = np.dot(W[l], A[l - 1]) + b[l] (4000, 209) <= (4000, 12288) . (12288, 209) + (4000, 1)\n",
      "2 Z[l] = np.dot(W[l], A[l - 1]) + b[l] (1000, 209) <= (1000, 4000) . (4000, 209) + (1000, 1)\n",
      "3 Z[l] = np.dot(W[l], A[l - 1]) + b[l] (100, 209) <= (100, 1000) . (1000, 209) + (100, 1)\n",
      "0 0.6928992495661196\n",
      "100 0.5531052915033404\n",
      "200 0.5206654073621815\n",
      "300 0.42194685494351186\n",
      "400 0.38357103780215956\n",
      "500 0.22895489861599505\n",
      "600 0.17356639173122615\n",
      "700 0.3672409324802559\n",
      "800 0.19109577773245418\n",
      "900 0.08392015545348908\n",
      "1000 0.03287598121733326\n",
      "1052 0.009850211680890241\n",
      "total training time 1117.511100769043\n"
     ]
    }
   ],
   "source": [
    "import time\n",
    "start = time.time()\n",
    "\n",
    "np.random.seed(1)\n",
    "W, b, A, i = neural_network(train_set_x, train_set_y, hidden_layer_dims=[4000, 1000, 100], \n",
    "                                num_iterations = 2001, learning_rate = 0.0003, early_stop_cost=0.01)\n",
    "\n",
    "print(\"total training time\", time.time() - start)"
   ]
  },
  {
   "cell_type": "markdown",
   "metadata": {},
   "source": [
    "## Check Accuracy with Multi Layer Neural Network"
   ]
  },
  {
   "cell_type": "code",
   "execution_count": 77,
   "metadata": {
    "collapsed": true
   },
   "outputs": [],
   "source": [
    "def accuracy_n_layers(W, b, A):\n",
    "    train_predict = np.where(A >= 0.5, 1, 0)\n",
    "    train_accuracy = np.sum(train_predict == train_set_y) / train_set_y.shape[1]\n",
    "    print(\"train accuracy\", train_accuracy)\n",
    "\n",
    "    L = len(W) - 1\n",
    "    \n",
    "    Z  = [l for l in range(L + 1)]\n",
    "    A  = [l for l in range(L + 1)]\n",
    "    A[0] = test_set_x\n",
    "    \n",
    "    for l in range(1, L):\n",
    "        Z[l] = np.dot(W[l], A[l-1]) + b[l]                     # [n_1, n_x] . [n_x, m]     => [n_1, m]        \n",
    "        A[l] = np.tanh(Z[l])                            #                              [n_1, m]  \n",
    "        \n",
    "    ZL = np.dot(W[L], A[L-1]) + b[L]                    # [n_y, n_1] . [n_1, m]     => [n_y, m]\n",
    "    AL = 1.0 / (1.0 + np.exp(-ZL))              #                              [n_y, m]\n",
    "    \n",
    "    test_predict = np.where(AL >= 0.5, 1, 0)    \n",
    "    test_accuracy = np.sum(test_predict == test_set_y) / test_set_y.shape[1]\n",
    "    print(\"test accuracy\", test_accuracy)\n",
    "\n",
    "    return train_predict, train_accuracy, test_predict, test_accuracy"
   ]
  },
  {
   "cell_type": "code",
   "execution_count": 85,
   "metadata": {},
   "outputs": [
    {
     "name": "stdout",
     "output_type": "stream",
     "text": [
      "train accuracy 1.0\n",
      "test accuracy 0.78\n"
     ]
    }
   ],
   "source": [
    "train_predict, train_accuracy, test_predict, test_accuracy = accuracy_n_layers(W, b, A)"
   ]
  },
  {
   "cell_type": "markdown",
   "metadata": {},
   "source": [
    "## Test Accuracy with Different Configuration\n",
    "\n",
    "|dims|learning rate | stop cost | # iterations| training time | train set accuracy | test accuracy |\n",
    "|:----|:----|:----------|\n",
    "| [100] |0.0003 | 0.1  | 2000  |  8 |1 | 0.78 |\n",
    "| [100] |0.0003 | 0.002  | 2000  |  34 |1 | 0.76 |\n",
    "| [500] |0.0003 | 0.1      | 471  |  60 |0.9856 | 0.78 |\n",
    "| [500] |0.0003 | 0.00187  | 2000  |  260 |1 | 0.76 |\n",
    "| [1000] |0.0003 | 0.1  | 480  |  128 |0.98 | 0.8 |\n",
    "| [1000] |0.0003 | 0.0017  | 2000  |  530 |1 | 0.74 |\n",
    "| [2000] |0.0003 | 0.1  | 2000  |  530 |1 | 0.74 |\n",
    "| [1000,100] |0.0003 | 0.1  | 2000  |  530 |0.9665 | 0.8 |\n",
    "| [1000,100] |0.0003 | 0.00057  | 2000  |  568 |1 | 0.76 |\n",
    "| [2000,100, 10] |0.0003 | 0.00057  | 2000  |  1040 |1 | 0.76 |\n",
    "| [4000, 1000, 100] |0.0003 | 0.00057  | 2000  |  1040 |1 | 0.78 |\n"
   ]
  }
 ],
 "metadata": {
  "kernelspec": {
   "display_name": "Python 3",
   "language": "python",
   "name": "python3"
  },
  "language_info": {
   "codemirror_mode": {
    "name": "ipython",
    "version": 3
   },
   "file_extension": ".py",
   "mimetype": "text/x-python",
   "name": "python",
   "nbconvert_exporter": "python",
   "pygments_lexer": "ipython3",
   "version": "3.6.3"
  }
 },
 "nbformat": 4,
 "nbformat_minor": 2
}
