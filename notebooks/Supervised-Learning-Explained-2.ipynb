{
 "cells": [
  {
   "cell_type": "markdown",
   "metadata": {},
   "source": [
    "## Why Low Accuracy with Logistics Regression\n",
    "\n",
    "Logistics Regression use following equations, which \\\\(x_1, x_2, x_3, ..., x_n\\\\) are pixel values of a photo, \\\\(w_1, w_2, w_3, ..., w_n\\\\) are weight on each pixel \\\\(b\\\\) is the bias regardless of any pixel.\n",
    "\n",
    "$$\\begin{align*} \n",
    "z&=w_1x_1+w_2x_2+w_3x_3+...+w_nx_n+b \\\\\n",
    "y&=\\sigma(z)=\\frac 1{1+e^{-z}}\n",
    "\\end{align*} $$\n",
    "\n",
    "It's an extreme simple algorithm. We can think it as one layer **Neural Network** with just **ONE** neural in total. \n",
    "From pixel value \\\\(x_1, x_2, x_3, ..., x_n\\\\) to \\\\(z\\\\) is a linear map. While the world is not linear, so it can just catch part of the features. \n",
    "\n",
    "<img src=\"../images/Logistic-Regression.png\" alt=\"Logistic-Regression\" style=\"width: 400px;\"/>\n",
    "\n",
    "It is not bad to achieve 70% accuracy. "
   ]
  },
  {
   "cell_type": "markdown",
   "metadata": {},
   "source": [
    "## From Logistic Regression to 2 Layers Neural Network\n",
    "\n",
    "If we extend a **Logistic Regression** a bit, adding one more layer in the algorithm, it shall be able to catch more features.\n",
    "\n",
    "In the following graph, \n",
    "\n",
    "- \\\\(x_1, x_2, x_3, x_4\\\\) are input layer, through it is usually in total number of layers. in this case it has 4 input features.\n",
    "- \\\\(a_1^{[1]}, a_2^{[1]}, a_3^{[1]}, a_3^{[1]}\\\\) are layer 1, in this case it has 4 features.\n",
    "- \\\\(\\hat y\\\\) are output layer, in this case it has only 1 output. \n",
    "<img src=\"../images/2Layers-NN.png\" alt=\"2Layers-NN\" style=\"width: 500px;\"/>"
   ]
  },
  {
   "cell_type": "markdown",
   "metadata": {},
   "source": [
    "## Forward Propagation\n",
    "\n",
    "From literatures, here are **forward propagation** equations for the 2 layers neural network. It uses tanh activation function in this case.\n",
    "\n",
    "$$\\begin{align*} \n",
    "Z^1 &= W^1\\cdot X + b^1 \\\\\n",
    "[n_1, m] &\\Leftarrow [n_1, n_x] \\cdot  [n_x, m] + [n_1, 1]\\\\\n",
    "A^1 &= tanh (Z^1)\\\\\n",
    "Z^2 &= W^2\\cdot Z^1 + b^2 \\\\\n",
    "[n_y, m] &\\Leftarrow [n_y, n_1] \\cdot  [n_1, m] + [n_y, 1]\\\\\n",
    "A^1 &= \\sigma (Z^2)\n",
    "\\end{align*} $$\n",
    "\n",
    "We can simply transfer the equation to Python code"
   ]
  },
  {
   "cell_type": "code",
   "execution_count": 1,
   "metadata": {},
   "outputs": [],
   "source": [
    "import numpy as np\n",
    "\n",
    "def forward_progagate(X, Y, W1, b1, W2, b2):\n",
    "    Z1 = np.dot(W1, X) + b1                     # [n_1, m]   <= [n_1, n_x] . [n_x, m]\n",
    "    A1 = np.tanh(Z1)                            # [n_1, m]  \n",
    "    Z2 = np.dot(W2, A1) + b2                    # [n_y, m]   <= [n_y, n_1] . [n_1, m]\n",
    "    A2 = 1.0 / (1.0 + np.exp(-Z2))              # [n_y, m]  \n",
    "\n",
    "    return A1, A2"
   ]
  },
  {
   "cell_type": "markdown",
   "metadata": {},
   "source": [
    "## Forward Propagation Dimensions\n",
    "\n",
    "In the cat/none-cat classification problem, \n",
    "\n",
    "- \\\\(n_x=64*64*3\\\\), the input dimension, \n",
    "- \\\\(n_y = 1\\\\), the out dimension, only one value\n",
    "- \\\\(n_1=10\\\\), if just pick the hidden layer size. This number will be adjusted later in the blog to test different accuracy result.\n",
    "\n",
    "\n",
    "For all the variables used in the forward propagation have shape\n",
    "\n",
    "|parameter|shape|shape value|\n",
    "|:--------|:----|:----------|\n",
    "| X       | [n_x, m]  | [12288, m]|\n",
    "| A1/Z1   | [n_1, m]  | [10, m]\n",
    "| Y/A2/Z2 | [n_y, m]  | [1, m]|\n",
    "| W1      | [n_1, n_x]| [10,12288]|\n",
    "| b1      | [n_1, 1]  | [10, 1] |\n",
    "| W2      | [n_y, n_1]| [1,10]|\n",
    "| b2      | [n_y, 1]  | [1, 1]|"
   ]
  },
  {
   "cell_type": "markdown",
   "metadata": {},
   "source": [
    "## Total Number of Parameters\n",
    "\n",
    "We can use following equation to calculate totally number of parameters. If we take \\\\(n_1=10\\\\), then there are totally have 122901. In which the first layer has 122880 features, due to the input feature is large\n",
    "\n",
    "$$\\begin{align*} \n",
    "n_1*n_x\\ +\\ n_1 * 1\\ +\\ n_y * n_1\\ +\\ n_y * 1 \n",
    "&= 10 * 12288 \\ +\\ 10 * 1\\ +\\ 1 * 10\\ +\\ 1 * 1 \\\\\n",
    "&= 122901\n",
    "\\end{align*} $$"
   ]
  },
  {
   "cell_type": "markdown",
   "metadata": {},
   "source": [
    "## Backward Propagation\n",
    "\n",
    "From the previous blog, we could get the following equation if the last layer using sigmoid as activation function.\n",
    "\n",
    "$$\\begin{align*} \n",
    "dZ_2 &= A2 - Y \\\\\n",
    "dW_2 &=\\frac{1}{m}(A2 - Y)\\cdot X^T\\\\\n",
    "[1, dim] &\\Leftarrow [1, m] \\cdot  [dim, m]^T \\\\\n",
    "db_2&=\\frac{1}{m}\\sum_{i=1}^m(A-Y) \\\\\n",
    "\\\\\n",
    "g_1(z) &=tanh(z) \\\\\n",
    "g_1'(z) &= 1-tanh(z)^2 = 1 - A_1^2\\\\\n",
    "\\\\\n",
    "dZ_1 &= W_2^T \\cdot dZ2 * g_1'(Z_1) = W_2^T \\cdot dZ2 * (1 - A_1^2) \\\\\n",
    "dW_1 &= dZ_1 . X^T \\\\\n",
    "db_1 &= \\frac{1}{m}\\sum_{i=1}^mdZ_1\n",
    "\\end{align*} $$"
   ]
  },
  {
   "cell_type": "markdown",
   "metadata": {},
   "source": [
    "We can implement the backward propations with following python code"
   ]
  },
  {
   "cell_type": "code",
   "execution_count": 41,
   "metadata": {},
   "outputs": [],
   "source": [
    "import numpy as np\n",
    "def backward_propagate(X, Y, A1, A2, W1, b1, W2, b2):\n",
    "    \"\"\"\n",
    "    X: [n_x, m]      train data set\n",
    "    Y: [n_y,  m]     label data\n",
    "    W1:[n_1, n_x]    weight for the first layer\n",
    "    b1:[n_1, 1]      bias for the first layer\n",
    "    W2:[n_y, n_1]    weight for the second layer\n",
    "    b1:[n_y, 1]      bias for the first layer\n",
    "    returns:         dW1, db1, dW2, db2\n",
    "    \"\"\"\n",
    "    n_x, m = X.shape\n",
    "    \n",
    "    dZ2 = A2 - Y                                   # [n_y, m] \n",
    "    dW2 = np.dot(dZ2, A1.T) / m                    # [n_y, n_1] <= [n_y, m] .   [n_1, m].T\n",
    "    db2 = np.sum(dZ2, axis=1, keepdims=True) / m   # [n_y, 1]   <= [n_y, m]\n",
    "    \n",
    "    dgZ1 = 1 - np.power(A1, 2)                     # [n_1, m]\n",
    "    dZ1  = np.multiply(np.dot(W2.T, dZ2), dgZ1)    # [n_1, m]   <= [n_y, n_1].T . [n_y, m]\n",
    "    dW1  = np.dot(dZ1, X.T) / m                    # [n_1, n_x] <= [n_1, m]     . [n_x, m].T\n",
    "    db1  = np.sum(dZ1, axis=1, keepdims=True) / m  # [n1, 1]    <= [n_1, m]\n",
    "    \n",
    "    return dW1, db1, dW2, db2"
   ]
  },
  {
   "cell_type": "markdown",
   "metadata": {
    "collapsed": true
   },
   "source": [
    "## 2 Layers Neural Model\n",
    "\n",
    "And the whole training model can be implemented like this"
   ]
  },
  {
   "cell_type": "code",
   "execution_count": 42,
   "metadata": {},
   "outputs": [],
   "source": [
    "def nn_2_layers(X, Y, n_1, num_iterations=10, learning_rate=0.01, \n",
    "                early_stop_cost=0., msg_interval=1, print_interval=100):\n",
    "    \"\"\"\n",
    "    X: [n_x, m]      train data set\n",
    "    Y: [n_y, m]      n_y=1 in this case\n",
    "    n_1:             first hidden layer dimension\n",
    "    num_iterations:  number iterations\n",
    "    learning_rate:   learning rate, alpha\n",
    "    early_stop_cost: early stop cost, if the cost small than this number, the train will stop\n",
    "    returns:         W1, b1, W2, b2, A, i (A, is the output, i is the number of iterations)\n",
    "    \"\"\"\n",
    "    n_x, m = X.shape\n",
    "    n_y = 1\n",
    "    \n",
    "    W1 = np.random.randn(n_1, n_x) * 0.01\n",
    "    b1 = np.zeros([n_1, 1])\n",
    "    W2 = np.random.randn(n_y, n_1) * 0.01\n",
    "    b2 = np.zeros([n_y, 1])\n",
    "    print(\"init weights\", W1[0][0], W2[0][0])\n",
    "        \n",
    "    costs = []\n",
    "    msgs = []\n",
    "    \n",
    "    for i in range(num_iterations):\n",
    "        A1, A2 = forward_progagate(X, Y, W1, b1, W2, b2)\n",
    "        dW1, db1, dW2, db2 = backward_propagate(X, Y, A1, A2, W1, b1, W2, b2)\n",
    "        \n",
    "        W1 = W1 - learning_rate * dW1\n",
    "        b1 = b1 - learning_rate * db1\n",
    "        W2 = W2 - learning_rate * dW2\n",
    "        b2 = b2 - learning_rate * db2\n",
    "        \n",
    "        cost = np.sum(-(np.dot(Y, np.log(A2.T)) + np.dot(1-Y, np.log(1-A2.T)))) / m\n",
    "        cost = np.squeeze(cost)\n",
    "        costs.append(cost)\n",
    "        \n",
    "        if cost < early_stop_cost:\n",
    "            break\n",
    "\n",
    "        if i % msg_interval == 0:\n",
    "            train_predict, train_accuracy, test_predict, test_accuracy = cat_utils.accuracy_2_layers(\n",
    "                W1, b1, W2, b2, test_set_x, test_set_y, A2, train_set_y)\n",
    "            msg = (i, n_1, learning_rate, cost, train_accuracy, test_accuracy)\n",
    "            msgs.append(msg)\n",
    "            \n",
    "            if i % print_interval == 0:\n",
    "                print(i, msg)\n",
    "                if 'debug' in globals() and debug:  \n",
    "                    print(i, \" derivitive\", dW1[0][0], dW2[0][0], db1[0][0], db2[0][0])\n",
    "                    print(i, \" weights\", W1[0][0], W2[0][0])\n",
    "\n",
    "\n",
    "    print(i, msgs[-1])\n",
    "    \n",
    "    return W1, b1, W2, b2, A2, msgs, costs"
   ]
  },
  {
   "cell_type": "markdown",
   "metadata": {},
   "source": [
    "## Load the Cata Dataset"
   ]
  },
  {
   "cell_type": "code",
   "execution_count": 43,
   "metadata": {},
   "outputs": [],
   "source": [
    "import cat_utils\n",
    "train_set_x, train_set_y, test_set_x, test_set_y, classes = cat_utils.load_normalized_dataset()"
   ]
  },
  {
   "cell_type": "markdown",
   "metadata": {},
   "source": [
    "## Train with 2 layer neural network"
   ]
  },
  {
   "cell_type": "code",
   "execution_count": 44,
   "metadata": {},
   "outputs": [],
   "source": [
    "import time\n",
    "\n",
    "def train(params):\n",
    "    n_1 = params[\"n_1\"]\n",
    "    num_iterations = params[\"num_iterations\"]\n",
    "    learning_rate = params[\"learning_rate\"]\n",
    "    early_stop_cost = params[\"early_stop_cost\"]\n",
    "\n",
    "    start = time.time()\n",
    "    np.random.seed(1)     # set seed, so that the result is comparable \n",
    "    W1, b1, W2, b2, A2, msgs, costs = nn_2_layers(train_set_x, train_set_y, n_1, \n",
    "                                    num_iterations, learning_rate, early_stop_cost)\n",
    "    i, n_1, learning_rate, cost, train_accuracy, test_accuracy = msgs[-1]\n",
    "    \n",
    "    md_row_format = \"|{0}|{1}|{2}|{3}|{4}|{5}|{6}|\"\n",
    "    md_row = md_row_format.format(n_1, learning_rate, cost, i, time.time() - start, train_accuracy, test_accuracy)\n",
    "    \n",
    "    return md_row, W1, b1, W2, b2, msgs, costs"
   ]
  },
  {
   "cell_type": "code",
   "execution_count": 48,
   "metadata": {},
   "outputs": [
    {
     "name": "stdout",
     "output_type": "stream",
     "text": [
      "init weights 0.01624345363663242 0.007582108466210078\n",
      "0 (0, 100, 0.03, 0.6876763164803181, 0.6220095693779905, 0.34)\n",
      "100 (100, 100, 0.03, 0.5136914203235036, 0.7368421052631579, 0.56)\n",
      "200 (200, 100, 0.03, 0.4402648719037226, 0.7799043062200957, 0.6)\n",
      "300 (300, 100, 0.03, 0.6875212497724041, 0.6842105263157895, 0.8)\n",
      "400 (400, 100, 0.03, 0.28232346343875814, 0.8803827751196173, 0.8)\n",
      "500 (500, 100, 0.03, 0.17913990779918323, 0.9665071770334929, 0.78)\n",
      "600 (600, 100, 0.03, 0.098001059685213, 0.9904306220095693, 0.76)\n",
      "700 (700, 100, 0.03, 0.3674896956572515, 0.7894736842105263, 0.36)\n",
      "786 (785, 100, 0.03, 0.05010942358258495, 1.0, 0.76)\n"
     ]
    },
    {
     "data": {
      "text/markdown": [
       "|n_1|learning_rate|stop_cost|iterations|training_time|train_accuracy|test_accuracy|\n",
       "|:--|:------------|:--------|:---------|:------------|:-------------|:------------|\n",
       "|100|0.03|0.05010942358258495|785|17.712958097457886|1.0|0.76|"
      ],
      "text/plain": [
       "<IPython.core.display.Markdown object>"
      ]
     },
     "metadata": {},
     "output_type": "display_data"
    }
   ],
   "source": [
    "from IPython.display import display, Markdown\n",
    "md_rows = [\"|n_1|learning_rate|stop_cost|iterations|training_time|train_accuracy|test_accuracy|\",\n",
    "            \"|:--|:------------|:--------|:---------|:------------|:-------------|:------------|\"]\n",
    "debug=False\n",
    "param = {\"n_1\": 100, \"num_iterations\": 801, \"learning_rate\": 0.03, \"early_stop_cost\": 0.05}\n",
    "md_row, W1, b1, W2, b2, msgs, costs = train(param)\n",
    "md_rows.append(md_row)\n",
    "display(Markdown(\"\\n\".join(md_rows)))"
   ]
  },
  {
   "cell_type": "code",
   "execution_count": 22,
   "metadata": {},
   "outputs": [
    {
     "data": {
      "text/plain": [
       "0.15725338524627208"
      ]
     },
     "execution_count": 22,
     "metadata": {},
     "output_type": "execute_result"
    }
   ],
   "source": [
    "costs[-1]"
   ]
  },
  {
   "cell_type": "markdown",
   "metadata": {},
   "source": [
    "## Accuracy for Train and Test Data Set\n",
    "\n",
    "Accuracy for train set is used to measure how good the model is, for the data it has seen.\n",
    "\n",
    "Accuracy for train set is used to measure how good the model is, for the data it has **NOT** seen. \n",
    "In other words, it is used to measure how general the model is.\n",
    "\n",
    "With the model we get, we can write followning code to get the accuracy"
   ]
  },
  {
   "cell_type": "code",
   "execution_count": 66,
   "metadata": {},
   "outputs": [
    {
     "name": "stdout",
     "output_type": "stream",
     "text": [
      "train accuracy 0.9952153110047847\n",
      "test accuracy 0.8\n"
     ]
    }
   ],
   "source": []
  },
  {
   "cell_type": "markdown",
   "metadata": {},
   "source": [
    "## Results with Different Hyper Parameters\n",
    "\n",
    "Choose different hyper parameters will get different result. \n",
    "\n",
    "Here are some results from variance configurations. The best test accuracy got is 80%, better then 70% with logistics regression. From the test, we also see that the accuracy is not always higher when use more neurals."
   ]
  },
  {
   "cell_type": "markdown",
   "metadata": {},
   "source": [
    "|n_1|learning rate | stop cost | # iterations| training time | train set accuracy | test accuracy |\n",
    "|:----|:----|:----------|\n",
    "| 100 |0.0003 | 0.1  | 2000  |  8 |1 | 0.78 |\n",
    "| 100 |0.0003 | 0.002  | 2000  |  34 |1 | 0.76 |\n",
    "| 500 |0.0003 | 0.1      | 471  |  60 |0.9856 | 0.78 |\n",
    "| 500 |0.0003 | 0.00187  | 2000  |  260 |1 | 0.76 |\n",
    "| 1000 |0.0003 | 0.1  | 480  |  128 |0.98 | 0.8 |\n",
    "| 1000 |0.0003 | 0.0017  | 2000  |  530 |1 | 0.74 |\n",
    "| 2000 |0.0003 | 0.1  | 2000  |  530 |1 | 0.74 |"
   ]
  },
  {
   "cell_type": "markdown",
   "metadata": {},
   "source": [
    "## Show Wrong Classficiations"
   ]
  },
  {
   "cell_type": "code",
   "execution_count": 29,
   "metadata": {},
   "outputs": [
    {
     "name": "stdout",
     "output_type": "stream",
     "text": [
      "wrong predict on train sample  92  to  [0] which should be [1]\n"
     ]
    },
    {
     "data": {
      "text/plain": [
       "<matplotlib.image.AxesImage at 0x129d83710>"
      ]
     },
     "execution_count": 29,
     "metadata": {},
     "output_type": "execute_result"
    },
    {
     "data": {
      "image/png": "[encoded data removed]",
      "text/plain": [
       "<matplotlib.figure.Figure at 0x124868e10>"
      ]
     },
     "metadata": {},
     "output_type": "display_data"
    }
   ],
   "source": [
    "import matplotlib.pyplot as plt\n",
    "%matplotlib inline\n",
    "wrong_index = np.argmax(train_predict != train_set_y)\n",
    "print(\"wrong predict on train sample \", wrong_index, \" to \", train_predict[:, wrong_index], \n",
    "      \"which should be\", train_set_y[:, wrong_index])\n",
    "plt.imshow(train_set_x_orig[wrong_index])\n"
   ]
  },
  {
   "cell_type": "code",
   "execution_count": 30,
   "metadata": {},
   "outputs": [
    {
     "name": "stdout",
     "output_type": "stream",
     "text": [
      "wrong predict on test sample  5  to  [1] which should be [0]\n"
     ]
    },
    {
     "data": {
      "text/plain": [
       "<matplotlib.image.AxesImage at 0x129e68240>"
      ]
     },
     "execution_count": 30,
     "metadata": {},
     "output_type": "execute_result"
    },
    {
     "data": {
      "image/png": "[encoded data removed]",
      "text/plain": [
       "<matplotlib.figure.Figure at 0x129da71d0>"
      ]
     },
     "metadata": {},
     "output_type": "display_data"
    }
   ],
   "source": [
    "import matplotlib.pyplot as plt\n",
    "%matplotlib inline\n",
    "wrong_index = np.argmax(test_predict != test_set_y)\n",
    "print(\"wrong predict on test sample \", wrong_index, \" to \", test_predict[:, wrong_index], \n",
    "      \"which should be\", test_set_y[:, wrong_index])\n",
    "plt.imshow(test_set_x_orig[wrong_index])\n",
    "\n"
   ]
  },
  {
   "cell_type": "markdown",
   "metadata": {},
   "source": [
    "## Goes to More Layers\n",
    "\n",
    "In the code written before, it is fixed to 2 layers. \n",
    "\n",
    "With a little bit extension, it will be able to extend to multiple layers."
   ]
  },
  {
   "cell_type": "code",
   "execution_count": 23,
   "metadata": {},
   "outputs": [],
   "source": [
    "def initilize_parameters(X, Y, hidden_layer_dims, activations):\n",
    "    \"\"\"\n",
    "    layer_dims: [n_x, n_1, n_2, ..., n_y]\n",
    "    activations: [not_used, relu, relu, ..., sigmoid]\n",
    "    \"\"\"\n",
    "        \n",
    "    n_x, m = X.shape\n",
    "    n_y, _ = Y.shape\n",
    "\n",
    "    # And input layer, and output layer\n",
    "    layer_dims = [n_x] + hidden_layer_dims + [n_y] \n",
    "    L = len(layer_dims) - 1\n",
    "    \n",
    "    W = [l for l in range(L + 1)] # W[0] - W[L], W[0] is not used\n",
    "    b = [l for l in range(L + 1)] # b[0] - b[L], b[0] is not used\n",
    "    \n",
    "    # Initialize parameters\n",
    "    for l in range(1, L + 1): # 1 - L\n",
    "        if activations[l] == \"relu\":        \n",
    "            norm = np.sqrt(2.0 / layer_dims[l-1]) # He Initialization, He et al., 2015\n",
    "        elif activations[l] == \"tanh\":\n",
    "            norm = 0.01\n",
    "        elif activations[l] == \"sigmoid\":\n",
    "            norm = 0.01\n",
    "        else:\n",
    "            norm = 1\n",
    "        if 'debug' in globals() and debug:            \n",
    "            print(\"layer\", l, \"[\", layer_dims[l], layer_dims[l-1], \"]\", activations[l], norm)\n",
    "            \n",
    "        W[l] = np.random.randn(layer_dims[l], layer_dims[l-1]) * norm # (n[l], n[l-1])\n",
    "        b[l] = np.zeros((layer_dims[l], 1))\n",
    "\n",
    "\n",
    "    # print one param for debug\n",
    "    if 'debug' in globals() and debug:\n",
    "        print(\"init weights\", W[1][0][0], W[2][0][0])\n",
    "    \n",
    "    return W, b"
   ]
  },
  {
   "cell_type": "code",
   "execution_count": 32,
   "metadata": {},
   "outputs": [],
   "source": [
    "debug=True"
   ]
  },
  {
   "cell_type": "code",
   "execution_count": 33,
   "metadata": {},
   "outputs": [],
   "source": [
    "def forward_propagate_n_layers(X, W, b, activations, iter_i=-1):\n",
    "    \"\"\"\n",
    "    X: Input\n",
    "    W: [not_used, W1, W2, ..., WL]\n",
    "    b: [not_used, b1, b2, ..., bL]\n",
    "    activations: [not_used, relu, relu, ..., sigmoid]    \n",
    "    \"\"\"\n",
    "    L = len(W) - 1\n",
    "    \n",
    "    Z  = [l for l in range(L+1)]\n",
    "    A  = [l for l in range(L+1)]\n",
    "    \n",
    "    A[0] = X\n",
    "    \n",
    "    for l in range(1, L+1):\n",
    "        Z[l] = np.dot(W[l], A[l - 1]) + b[l] # (n[l], m) <= (n[l], n[l-1]) . (n[l-1], m) + (n[l], 1)\n",
    "        \n",
    "        if activations[l] == \"relu\":        \n",
    "            A[l] = np.max(0, Z[l])\n",
    "        elif activations[l] == \"tanh\":\n",
    "            A[l] = np.tanh(Z[l])\n",
    "        elif activations[l] == \"sigmoid\":\n",
    "            A[l] = 1.0 / (1.0 + np.exp(-Z[l]))\n",
    "        else:\n",
    "            raise Exception(\"activation \" + activations[l] + \"not supported\")\n",
    "            \n",
    "        if iter_i == 0 and 'debug' in globals() and debug:\n",
    "            shape_info = \"Z[l] = np.dot(W[l], A[l - 1]) + b[l] {shape1} <= {shape2} . {shape3} + {shape4}\".format(\n",
    "                shape1=Z[l].shape, shape2=W[l].shape, shape3=A[l-1].shape, shape4=b[l].shape)\n",
    "            print(l, activations[l], shape_info)\n",
    "            \n",
    "    return A, Z"
   ]
  },
  {
   "cell_type": "code",
   "execution_count": 54,
   "metadata": {},
   "outputs": [],
   "source": [
    "def backward_propagate_n_layers(X, A, Y, W, b, activations, iter_i=-1, lambd=0):\n",
    "    n_x, m = X.shape\n",
    "    L = len(W) - 1\n",
    "\n",
    "    dA = [l for l in range(L + 1)] # index 0 not used\n",
    "    dZ = [l for l in range(L + 1)]\n",
    "    dW = [l for l in range(L + 1)]\n",
    "    db = [l for l in range(L + 1)]\n",
    "\n",
    "    \n",
    "    # Backward propagation for the last layer\n",
    "    if activations[L] == \"sigmoid\":\n",
    "        dA[L] = -(np.divide(Y, A[L]) - np.divide(1 - Y, 1 - A[L]))\n",
    "        # The way to calculate dZL is different than other layers, due to different activation function\n",
    "        dZ[L] = A[L] - Y\n",
    "    else:\n",
    "        raise Exception(\"activation \" + activations[L] + \"not supported\")\n",
    "        \n",
    "    dW[L] = np.dot(dZ[L], A[L-1].T) / m  + lambd * W[L] / m\n",
    "    db[L] = np.sum(dZ[L], axis=1, keepdims=True) / m\n",
    "\n",
    "    # Backward propagation for other layers\n",
    "    for l in reversed(range(1, L)):\n",
    "        if iter_i == 0 and 'debug' in globals() and debug:\n",
    "            print(l, \"W[l].shape\", W[l].shape, \"dZ[l+1].shape\", dZ[l+1])\n",
    "\n",
    "        if activations[l] == \"tanh\":\n",
    "            dgZl = 1 - np.power(A[l], 2)\n",
    "            dZ[l] = np.multiply(np.dot(W[l+1].T, dZ[l+1]), dgZl)\n",
    "#         elif activations[l] == \"relu\":\n",
    "        else:\n",
    "            raise Exception(\"activation \" + activations[L] + \"not supported\")\n",
    "            \n",
    "        dW[l] = np.dot(dZ[l], A[l-1].T) / m + lambd * W[l] / m\n",
    "        db[l] = np.sum(dZ[l], axis=1, keepdims=True) / m\n",
    "        \n",
    "    return dW, db"
   ]
  },
  {
   "cell_type": "code",
   "execution_count": 55,
   "metadata": {},
   "outputs": [],
   "source": [
    "def calculate_cost(W, AL, Y, lambd=0):\n",
    "    n_y, m = Y.shape\n",
    "        \n",
    "    # calculate cost\n",
    "    \n",
    "    cross_entropy_cost = -np.sum((np.dot(Y, np.log(AL.T)) + np.dot(1-Y, np.log(1-AL.T)))) / m\n",
    "    \n",
    "    regulation = 0\n",
    "    if lambd > 0:\n",
    "        for l in range(1, len(W)):\n",
    "            regulation += np.sum(W[l])\n",
    "            \n",
    "    return np.squeeze(cross_entropy_cost) + regulation / m"
   ]
  },
  {
   "cell_type": "code",
   "execution_count": 68,
   "metadata": {},
   "outputs": [],
   "source": [
    "def neural_network_n_layers(X, Y, test_set_x, test_set_y, hidden_layer_dims, activations, \n",
    "                            num_iterations=10, learning_rate=0.01, early_stop_cost=0., lambd=0,\n",
    "                            msg_interval=1, print_interval=100):\n",
    "    \"\"\"\n",
    "    X:                 train input\n",
    "    Y:                 train labels\n",
    "    hidden_layer_dims: all hidden layer units\n",
    "    \"\"\"\n",
    "#     n_x, m = X.shape\n",
    "#     n_y, _ = Y.shape\n",
    "\n",
    "    # And input layer, and output layer\n",
    "    L = len(hidden_layer_dims) + 1\n",
    "\n",
    "    activations.insert(0, \"not_used\")\n",
    "        \n",
    "    W, b = initilize_parameters(X, Y, hidden_layer_dims, activations)\n",
    "\n",
    "    \n",
    "    costs = []\n",
    "    msgs = []\n",
    "    for i in range(num_iterations):\n",
    "        A, Z = forward_propagate_n_layers(X, W, b, activations)\n",
    "        dW, db = backward_propagate_n_layers(X, A, Y, W, b, activations)\n",
    "            \n",
    "        # update parameters\n",
    "        for l in range(1, L + 1):\n",
    "            W[l] = W[l] - learning_rate * dW[l]\n",
    "            b[l] = b[l] - learning_rate * db[l]\n",
    "            \n",
    "        if i == 0 and 'debug' in globals() and debug:        \n",
    "            print(\"dW[1][0][0], dW[2][0][0]\", dW[1][0][0], dW[2][0][0])\n",
    "            print(\"db[1][0][0], db[2][0][0]\", db[1][0][0], db[2][0][0])\n",
    "            print(\" W[1][0][0],  W[2][0][0]\",  W[1][0][0],  W[2][0][0])\n",
    "            \n",
    "        cost = calculate_cost(W, A[L], Y, lambd)\n",
    "        costs.append(cost)\n",
    "        \n",
    "        if cost < early_stop_cost:\n",
    "            break\n",
    "\n",
    "        if i % msg_interval == 0:\n",
    "            train_predict, train_accuracy, test_predict, test_accuracy = cat_utils.accuracy_n_layers(\n",
    "                W, b, test_set_x, test_set_y, A[-1], train_set_y)\n",
    "            msg = (i, hidden_layer_dims, learning_rate, cost, train_accuracy, test_accuracy)\n",
    "            msgs.append(msg)\n",
    "            \n",
    "            if i % print_interval == 0:\n",
    "                print(msg)\n",
    "                if 'debug' in globals() and debug:  \n",
    "                    print(i, \" weights\", W[1][0][0], W[2][0][0])\n",
    "            \n",
    "    print(msgs[-1])\n",
    "    \n",
    "    return W, b, A, msgs, costs"
   ]
  },
  {
   "cell_type": "markdown",
   "metadata": {},
   "source": [
    "## Sanity Check for the Multi Layer Code\n",
    "\n",
    "Run training with same configuration to see if it has same result"
   ]
  },
  {
   "cell_type": "code",
   "execution_count": 57,
   "metadata": {},
   "outputs": [
    {
     "name": "stdout",
     "output_type": "stream",
     "text": [
      "0 (0, 100, 0.03, 0.7058834921042767, 0.6220095693779905, 0.34)\n",
      "100 (100, 100, 0.03, 0.49224530410620004, 0.7368421052631579, 0.56)\n",
      "200 (200, 100, 0.03, 0.42895316029856206, 0.7799043062200957, 0.6)\n",
      "300 (300, 100, 0.03, 0.6426557409354395, 0.6842105263157895, 0.8)\n",
      "400 (400, 100, 0.03, 0.2282545359417549, 0.8803827751196173, 0.8)\n",
      "500 (500, 100, 0.03, 0.19079278675607342, 0.9665071770334929, 0.78)\n",
      "(560, 100, 0.03, 0.10251211743083408, 0.9808612440191388, 0.78)\n",
      "total training time 13.550458908081055\n"
     ]
    }
   ],
   "source": [
    "import time\n",
    "import cat_utils\n",
    "import numpy as np\n",
    "\n",
    "train_set_x, train_set_y, test_set_x, test_set_y, classes = cat_utils.load_normalized_dataset()\n",
    "start = time.time()\n",
    "\n",
    "np.random.seed(1)\n",
    "W, b, A, msgs, costs = neural_network_n_layers(train_set_x, train_set_y, test_set_x, test_set_y, \n",
    "                                               hidden_layer_dims=[100],\n",
    "                                activations=[\"tanh\", \"sigmoid\"],\n",
    "                                num_iterations = 801, learning_rate = 0.03, early_stop_cost=0.1, lambd=0.1)\n",
    "\n",
    "print(\"total training time\", time.time() - start)"
   ]
  },
  {
   "cell_type": "code",
   "execution_count": 65,
   "metadata": {},
   "outputs": [],
   "source": [
    "def train_n_layers(params):\n",
    "    dims = params[\"dims\"]\n",
    "    activations = params[\"activations\"]\n",
    "    num_iterations = params[\"num_iterations\"]\n",
    "    learning_rate = params[\"learning_rate\"]\n",
    "    early_stop_cost = params[\"early_stop_cost\"]\n",
    "\n",
    "    start = time.time()\n",
    "    np.random.seed(1)     # set seed, so that the result is comparable \n",
    "    W, b, A, msgs, costs = neural_network_n_layers(\n",
    "        train_set_x, train_set_y, test_set_x, test_set_y, \n",
    "        hidden_layer_dims=dims,\n",
    "        activations=activations,\n",
    "        num_iterations = num_iterations, learning_rate = learning_rate, early_stop_cost=early_stop_cost, lambd=0.1)\n",
    "    \n",
    "    return W, b, msgs, costs"
   ]
  },
  {
   "cell_type": "code",
   "execution_count": 66,
   "metadata": {},
   "outputs": [
    {
     "name": "stdout",
     "output_type": "stream",
     "text": [
      "0 (0, 100, 0.03, 0.7058834921042767, 0.6220095693779905, 0.34)\n",
      "100 (100, 100, 0.03, 0.49224530410620004, 0.7368421052631579, 0.56)\n",
      "200 (200, 100, 0.03, 0.42895316029856206, 0.7799043062200957, 0.6)\n",
      "300 (300, 100, 0.03, 0.6426557409354395, 0.6842105263157895, 0.8)\n",
      "400 (400, 100, 0.03, 0.2282545359417549, 0.8803827751196173, 0.8)\n",
      "500 (500, 100, 0.03, 0.19079278675607342, 0.9665071770334929, 0.78)\n",
      "600 (600, 100, 0.03, 0.0682916163482325, 0.9904306220095693, 0.76)\n",
      "(692, 100, 0.03, 0.06150610384970157, 0.9904306220095693, 0.78)\n"
     ]
    }
   ],
   "source": [
    "param = {\"dims\": [100], \"activations\": [\"tanh\", \"sigmoid\"], \"num_iterations\": 801, \"learning_rate\": 0.03, \"early_stop_cost\": 0.05}\n",
    "result = train_n_layers(param)"
   ]
  },
  {
   "cell_type": "code",
   "execution_count": 67,
   "metadata": {},
   "outputs": [
    {
     "data": {
      "text/plain": [
       "4"
      ]
     },
     "execution_count": 67,
     "metadata": {},
     "output_type": "execute_result"
    }
   ],
   "source": [
    "len(result)"
   ]
  },
  {
   "cell_type": "code",
   "execution_count": 79,
   "metadata": {},
   "outputs": [
    {
     "name": "stdout",
     "output_type": "stream",
     "text": [
      "(0, [100], 0.03, 0.7058834921042767, 0.6220095693779905, 0.34)\n",
      "(100, [100], 0.03, 0.49224530410620004, 0.7368421052631579, 0.56)\n",
      "(200, [100], 0.03, 0.42895316029856206, 0.7799043062200957, 0.6)\n",
      "(300, [100], 0.03, 0.6426557409354395, 0.6842105263157895, 0.8)\n",
      "(400, [100], 0.03, 0.2282545359417549, 0.8803827751196173, 0.8)\n",
      "(500, [100], 0.03, 0.19079278675607342, 0.9665071770334929, 0.78)\n",
      "(600, [100], 0.03, 0.0682916163482325, 0.9904306220095693, 0.76)\n",
      "(692, [100], 0.03, 0.06150610384970157, 0.9904306220095693, 0.78)\n"
     ]
    },
    {
     "data": {
      "text/markdown": [
       "|dims|learning_rate|stop_cost|iterations|training_time|train_accuracy|test_accuracy|\n",
       "|:--|:------------|:--------|:---------|:------------|:-------------|:------------|\n",
       "|692|[100]|0.03|0.06150610384970157|0.9904306220095693|0.78|"
      ],
      "text/plain": [
       "<IPython.core.display.Markdown object>"
      ]
     },
     "metadata": {},
     "output_type": "display_data"
    }
   ],
   "source": [
    "from IPython.display import display, Markdown\n",
    "md_rows = [\"|dims|learning_rate|stop_cost|iterations|training_time|train_accuracy|test_accuracy|\",\n",
    "            \"|:--|:------------|:--------|:---------|:------------|:-------------|:------------|\"]\n",
    "debug=False\n",
    "param = {\"dims\": [100], \"activations\": [\"tanh\", \"sigmoid\"], \"num_iterations\": 801, \"learning_rate\": 0.03, \"early_stop_cost\": 0.05}\n",
    "\n",
    "W, b, msgs, costs = train_n_layers(param)\n",
    "md_row = \"|\" + \"|\".join([str(m) for m in msgs[-1]]) + \"|\"\n",
    "md_rows.append(md_row)\n",
    "display(Markdown(\"\\n\".join(md_rows)))"
   ]
  },
  {
   "cell_type": "markdown",
   "metadata": {},
   "source": [
    "## Train with Multiple Layers"
   ]
  },
  {
   "cell_type": "code",
   "execution_count": 86,
   "metadata": {},
   "outputs": [
    {
     "name": "stdout",
     "output_type": "stream",
     "text": [
      "1 [12288, 4000, 1000, 100, 1]\n",
      "4000 12288\n",
      "2 [12288, 4000, 1000, 100, 1]\n",
      "1000 4000\n",
      "3 [12288, 4000, 1000, 100, 1]\n",
      "100 1000\n",
      "4 [12288, 4000, 1000, 100, 1]\n",
      "1 100\n",
      "1 Z[l] = np.dot(W[l], A[l - 1]) + b[l] (4000, 209) <= (4000, 12288) . (12288, 209) + (4000, 1)\n",
      "2 Z[l] = np.dot(W[l], A[l - 1]) + b[l] (1000, 209) <= (1000, 4000) . (4000, 209) + (1000, 1)\n",
      "3 Z[l] = np.dot(W[l], A[l - 1]) + b[l] (100, 209) <= (100, 1000) . (1000, 209) + (100, 1)\n",
      "0 0.6928992495661196\n",
      "100 0.5531052915033404\n",
      "200 0.5206654073621815\n",
      "300 0.42194685494351186\n",
      "400 0.38357103780215956\n",
      "500 0.22895489861599505\n",
      "600 0.17356639173122615\n",
      "700 0.3672409324802559\n",
      "800 0.19109577773245418\n",
      "900 0.08392015545348908\n",
      "1000 0.03287598121733326\n",
      "1052 0.009850211680890241\n",
      "total training time 1117.511100769043\n"
     ]
    }
   ],
   "source": [
    "import time\n",
    "start = time.time()\n",
    "\n",
    "np.random.seed(1)\n",
    "W, b, A, i = neural_network(train_set_x, train_set_y, hidden_layer_dims=[4000, 1000, 100], \n",
    "                                num_iterations = 2001, learning_rate = 0.0003, early_stop_cost=0.01)\n",
    "\n",
    "print(\"total training time\", time.time() - start)"
   ]
  },
  {
   "cell_type": "markdown",
   "metadata": {},
   "source": [
    "## Check Accuracy with Multi Layer Neural Network"
   ]
  },
  {
   "cell_type": "code",
   "execution_count": 77,
   "metadata": {
    "collapsed": true
   },
   "outputs": [],
   "source": [
    "def accuracy_n_layers(W, b, A):\n",
    "    train_predict = np.where(A >= 0.5, 1, 0)\n",
    "    train_accuracy = np.sum(train_predict == train_set_y) / train_set_y.shape[1]\n",
    "    print(\"train accuracy\", train_accuracy)\n",
    "\n",
    "    L = len(W) - 1\n",
    "    \n",
    "    Z  = [l for l in range(L + 1)]\n",
    "    A  = [l for l in range(L + 1)]\n",
    "    A[0] = test_set_x\n",
    "    \n",
    "    for l in range(1, L):\n",
    "        Z[l] = np.dot(W[l], A[l-1]) + b[l]      # [n_1, m] <= [n_1, n_x] . [n_x, m]\n",
    "        A[l] = np.tanh(Z[l])                    # [n_1, m]  \n",
    "        \n",
    "    ZL = np.dot(W[L], A[L-1]) + b[L]            # [n_y, m] <= [n_y, n_1] . [n_1, m]\n",
    "    AL = 1.0 / (1.0 + np.exp(-ZL))              # [n_y, m]\n",
    "    \n",
    "    test_predict = np.where(AL >= 0.5, 1, 0)    \n",
    "    test_accuracy = np.sum(test_predict == test_set_y) / test_set_y.shape[1]\n",
    "    print(\"test accuracy\", test_accuracy)\n",
    "\n",
    "    return train_predict, train_accuracy, test_predict, test_accuracy"
   ]
  },
  {
   "cell_type": "code",
   "execution_count": 61,
   "metadata": {},
   "outputs": [
    {
     "name": "stdout",
     "output_type": "stream",
     "text": [
      "train_accuracy 0.9952153110047847\n",
      "test_accuracy  0.76\n"
     ]
    }
   ],
   "source": [
    "train_predict, train_accuracy, test_predict, test_accuracy = cat_utils.accuracy_n_layers(\n",
    "    W, b, test_set_x, test_set_y, A[-1], train_set_y)\n",
    "print(\"train_accuracy\", train_accuracy)\n",
    "print(\"test_accuracy \", test_accuracy)"
   ]
  },
  {
   "cell_type": "markdown",
   "metadata": {},
   "source": [
    "## Test Accuracy with Different Configuration\n",
    "\n",
    "|dims|learning rate | stop cost | # iterations| training time | train set accuracy | test accuracy |\n",
    "|:----|:----|:----------|\n",
    "| [100] |0.0003 | 0.1  | 2000  |  8 |1 | 0.78 |\n",
    "| [100] |0.0003 | 0.002  | 2000  |  34 |1 | 0.76 |\n",
    "| [500] |0.0003 | 0.1      | 471  |  60 |0.9856 | 0.78 |\n",
    "| [500] |0.0003 | 0.00187  | 2000  |  260 |1 | 0.76 |\n",
    "| [1000] |0.0003 | 0.1  | 480  |  128 |0.98 | 0.8 |\n",
    "| [1000] |0.0003 | 0.0017  | 2000  |  530 |1 | 0.74 |\n",
    "| [2000] |0.0003 | 0.1  | 2000  |  530 |1 | 0.74 |\n",
    "| [1000,100] |0.0003 | 0.1  | 2000  |  530 |0.9665 | 0.8 |\n",
    "| [1000,100] |0.0003 | 0.00057  | 2000  |  568 |1 | 0.76 |\n",
    "| [2000,100, 10] |0.0003 | 0.00057  | 2000  |  1040 |1 | 0.76 |\n",
    "| [4000, 1000, 100] |0.0003 | 0.00057  | 2000  |  1040 |1 | 0.78 |\n"
   ]
  }
 ],
 "metadata": {
  "kernelspec": {
   "display_name": "Python 3",
   "language": "python",
   "name": "python3"
  },
  "language_info": {
   "codemirror_mode": {
    "name": "ipython",
    "version": 3
   },
   "file_extension": ".py",
   "mimetype": "text/x-python",
   "name": "python",
   "nbconvert_exporter": "python",
   "pygments_lexer": "ipython3",
   "version": "3.6.4"
  }
 },
 "nbformat": 4,
 "nbformat_minor": 2
}
