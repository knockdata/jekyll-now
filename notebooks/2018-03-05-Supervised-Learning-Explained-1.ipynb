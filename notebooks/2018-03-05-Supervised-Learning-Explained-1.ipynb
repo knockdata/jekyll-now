{
 "cells": [
  {
   "cell_type": "markdown",
   "metadata": {},
   "source": [
    "## What is Supervised Learning\n",
    "\n",
    "There are few types of machine learning. Supervised Learning is one of them.\n",
    "\n",
    "The fundamental concept is letting a system learn from lots of **labeled** data. \n",
    "\n",
    "After the learning, the system will be able to predict the result when new data come.\n",
    "\n",
    "This is supervised learning. \n",
    "\n",
    "**Labeled** data means, we know the meaning of our data. Example can be, \n",
    "\n",
    "- Given fact, like house size, location, year of build, we know the price. Here the price is the label. House size, location and year of build are called features.\n",
    "- Given a photo, we know whether is a cat. Here whether is a cat is the label. And photo is the features.\n"
   ]
  },
  {
   "cell_type": "markdown",
   "metadata": {},
   "source": [
    "## How Learn a Cat is a Cat\n",
    "\n",
    "When we were young, someone, likely our parents, told us that is a cat when we see a cat. \n",
    "\n",
    "So we just looked at the cat visually and label it as a cat.\n",
    "\n",
    "And late on, when we see a cat, we predict it. \n",
    "\n",
    "- Sometime we are right, our parents will say good job.\n",
    "- Sometime we are left,  our parents will say, no, that is not a cat.\n",
    "\n",
    "Over time, we will get better predication, super close to 100%.\n",
    "\n",
    "Our parents are our supervisor in that case. We are learning in supervised way."
   ]
  },
  {
   "cell_type": "markdown",
   "metadata": {},
   "source": [
    "## Before Learning\n",
    "\n",
    "Without previous knowledge, let a system tell whether a photo is a cat.\n",
    "\n",
    "The system is a plain cubic box, it can only guess randomly. Either yes, it's a cat. Or no, it's not a cat. Just like toss a coin. So the accuracy will be just 50%.\n",
    "\n",
    "![plain-box-supervised-learning](../images/plain-box-supervised-learning.png)"
   ]
  },
  {
   "cell_type": "markdown",
   "metadata": {},
   "source": [
    "readmore"
   ]
  },
  {
   "cell_type": "markdown",
   "metadata": {},
   "source": [
    "## After Learning\n",
    "\n",
    "While if we give the cubic box enough **labeled** data, and let it learn **long enough**.\n",
    "\n",
    "The plain cubic box will become a magic box. It will have high accuracy to tell whether a photo is a cat.\n",
    "\n",
    "![magic-box-supervised-learning](../images/magic-box-supervised-learning.png)"
   ]
  },
  {
   "cell_type": "markdown",
   "metadata": {},
   "source": [
    "## How Good a Magic Box is\n",
    "\n",
    "Of course we want our magic box able to:\n",
    "\n",
    "- classify a photo is a cat if a coming photo is a cat\n",
    "- classify a photo is not a cat if a coming photo is not a cat\n",
    "\n",
    "We can measure it with following steps:\n",
    "\n",
    "1. give the magic box few **new** labeled photos\n",
    "2. the magic box do the classification\n",
    "3. compare the predicted result and expected result to get the accuracy. \n",
    "\n",
    "> **New** photos, means that the magic box has never see this photo before."
   ]
  },
  {
   "cell_type": "markdown",
   "metadata": {},
   "source": [
    "## How to Make a Good Magic Box\n",
    "\n",
    "There are few general ways to get a better magic box.\n",
    "\n",
    "1. Give it more photos\n",
    "2. Use better algorithms\n",
    "3. Buy more powerful machines\n",
    "4. Let it learn long enough\n",
    "\n",
    "We can always letting the box learn long enough. Though it would not be an option most of the time.\n",
    "\n",
    "We could also buy more powerful machines, if we got enough money. Again, might not an option.\n",
    "\n",
    "So most of time, we are spending time either getting more data or looking for better algorithms."
   ]
  },
  {
   "cell_type": "markdown",
   "metadata": {},
   "source": [
    "## Hello World Algorithm - Logistic Regression\n",
    "\n",
    "Just like any other programming language, there is Hello World. \n",
    "\n",
    "In supervised learning world, it's Logistic Regression. **Logistics Regression** is a supervised learning algorithm to solve classification problems.\n",
    "\n",
    "Yes. It's strange, **Logistics Regression** is used to solve classification problems.\n",
    "\n",
    "If we take cat classification problem, denote\n",
    "\n",
    "- every pixel as an input feature \\\\(x\\\\), denote as \\\\(x_1, x_2, x_3 ..., x_n\\\\)\n",
    "- every pixel has a weight \\\\(w\\\\), denote as \\\\(w_1, w_2, w_3 ..., w_n\\\\)\n",
    "- a bias value regardless of any pixel \\\\(b\\\\)\n",
    "\n",
    "Logistics Regression use equations\n",
    "\n",
    "$$z=w_1x_1+w_2x_2+w_3x_3+...+w_nx_n+b$$\n",
    "\n",
    "$$y=\\sigma(z)=\\frac 1{1+e^{-z}}$$\n",
    "\n",
    "By training it long enough, and we get a set of value \\\\(w_1, w_2, w_3 ..., w_n\\\\) and \\\\(b\\\\).\n",
    "\n",
    "We will able to calculate the result by substitute the value \\\\(x_1, x_2, x_3 ..., x_n\\\\), \\\\(w_1, w_2, w_3 ..., w_n\\\\), \\\\(b\\\\) with the previous equation."
   ]
  },
  {
   "cell_type": "markdown",
   "metadata": {},
   "source": [
    "## How About Other Algorithms\n",
    "\n",
    "So Logistic Regression sounds simple. How about other algorithms?\n",
    "\n",
    "Theroatically it's just more equoations.\n",
    "\n",
    "And of course, it will take lots of effort to make it work, and make it work better\n",
    "\n",
    "Here is an example of a bit complex algorithm. It still able to draw every connections. \n",
    "\n",
    "![https://www.researchgate.net/profile/Kathrine_Redalen/publication/51200358/figure/fig3/AS:214080666247173@1428052216975/Illustration-of-the-architecture-of-the-back-propagation-neural-network-BPNN-The-BPNN.png\n",
    "](../images/Illustration-of-the-architecture-of-the-back-propagation-neural-network-BPNN-The-BPNN.png)\n",
    "\n",
    "For modern deep learning, it will not able to draw every connections since there are more than million connections."
   ]
  },
  {
   "cell_type": "markdown",
   "metadata": {},
   "source": [
    "## Why Machine Learning is Difficult\n",
    "\n",
    "### Hard to Understand\n",
    "\n",
    "One dimension is easy. We can easily figure it out. How about 2, 3, 4 dimensions?\n",
    "\n",
    "Our brain will not able to plot it when its over 3 dimension. It will be difficult, if we can not make the algorithm a picture in our head\n",
    "\n",
    "### Hard to Try\n",
    "\n",
    "We could just try every combination if \n",
    "\n",
    "- Combination are in finite space\n",
    "- Time cost is small\n",
    "- Financial cost is small\n",
    "\n",
    "While that is not the case for machine learning. It can not be done by brutal force. \n",
    "\n",
    "### Hard to Get Enough Cleaning Data\n",
    "\n",
    "The world is complex. Data could be here, there, in this format, in that format, correct or incorrect.\n",
    "\n",
    "It takes lots of time and effort to get **clean** data.\n",
    "\n",
    "If we could not get enough clean data, no matter how good algorithm we have. It will goes to idiom \"garbage in, garbage out\"."
   ]
  },
  {
   "cell_type": "markdown",
   "metadata": {},
   "source": [
    "## A Little Bit on Linear Algbra\n",
    "\n",
    "It will not take more than 3 minutes.\n",
    "\n",
    "![Linear Algibra A](../images/matrix-multiply-a.gif)\n",
    "![Linear Algibra B](../images/matrix-multiply-b.gif)\n",
    "\n",
    "$$\n",
    "\\begin{align*} \n",
    "1 * 7 + 2 * 9 + 3 * 11 &= 58\\\\\n",
    "1 * 8 + 2 * 10 + 3 * 12 &= 64\n",
    "\\end{align*} \n",
    "$$\n",
    "\n",
    "The first one [2, 3] matrix, and the second one is [3, 2] matrix, the result will be [2, 2] matrix.\n",
    "\n",
    "In general, if we have a [m, n] matrix dot product [n, o] matrix, the result will be [m, o] matrix."
   ]
  },
  {
   "cell_type": "markdown",
   "metadata": {},
   "source": [
    "## Vectorize Logistic Regression\n",
    "\n",
    "Recall the equations used Ligistic Regression \n",
    "$$\n",
    "\\begin{align*} \n",
    "z&=w_1x_1+w_2x_2+w_3x_3+...+w_nx_n+b \\\\\n",
    "\\hat y=a&=\\sigma(z)=\\frac 1{1+e^{-z}}\n",
    "\\end{align*} \n",
    "$$\n",
    "\n",
    "If we set w as [1, dim] matrix, and x as [dim, 1] matrix. We can rewrite the previous equation as.\n",
    "\n",
    "$$\\begin{align*} \n",
    "z&=w\\cdot x \\\\\n",
    "[1, 1] &\\Leftarrow [1, dim] \\cdot  [dim, 1] \t\n",
    "\\end{align*}$$\n",
    "\n",
    "If we stack all samples of x as [dim, m] matrix. Each column is one example. and stack all labels y together as [1, m]. Z has shape, [dim, m]. We can write the equation of the whole dataset as\n",
    "\n",
    "$$\\begin{align*} \n",
    "Z &= w\\cdot X\\\\\n",
    "[1, m] &\\Leftarrow  [1, dim] \\cdot  [dim, m]\n",
    "\\end{align*}$$\n",
    "\n",
    "So after vectorize, we have following parameter and with the shape\n",
    "\n",
    "|parameter|shape|\n",
    "|:--------|:----|\n",
    "| X       | [dim, m]|\n",
    "| Y,A,Z   | [1,   m]|\n",
    "| w       | [1, dim]|\n"
   ]
  },
  {
   "cell_type": "markdown",
   "metadata": {},
   "source": [
    "## Implement Logistic Regression Forward Propagation\n",
    "\n",
    "With the equations we have. We can simply implement **Logistic Regression** with **numpy**, which is a linear algebra library in Python.\n",
    "\n",
    "We can create a test data and implement logistic regression forward propagation like this"
   ]
  },
  {
   "cell_type": "code",
   "execution_count": 1,
   "metadata": {},
   "outputs": [
    {
     "name": "stdout",
     "output_type": "stream",
     "text": [
      "[[0.05968404 0.97675612 0.66520774 0.68710686 0.12648752 0.8792792\n",
      "  0.54440253 0.81416813 0.4697947  0.28029121]]\n"
     ]
    }
   ],
   "source": [
    "import numpy as np\n",
    "\n",
    "## Generate test data\n",
    "dim = 3                               # just tested with 3 dimentions\n",
    "m = 10                                # just tested with 10 samples \n",
    "np.random.seed(1)                     # set seed, so that we will get predictable value for random\n",
    "X = np.random.randn(dim, m)           # generate random [dim, m] matrix\n",
    "Y = np.random.randint(2, size=(1, m)) # generate random int 0 or 1, matrix [1, m]\n",
    "\n",
    "## Initialize parameter\n",
    "w = np.random.randn(1, dim)           # generate inital weight with random value\n",
    "b = 0.0                               # inital bias\n",
    "\n",
    "## The following two lines are logistic regression forward propagation\n",
    "Z = np.dot(w, X) + b                  # dot product w and X, then plus b. numpy will broadcast b\n",
    "A = 1.0 / (1.0 + np.exp(-Z))          # sigmod function\n",
    "\n",
    "print(A)"
   ]
  },
  {
   "cell_type": "markdown",
   "metadata": {},
   "source": [
    "## Cost Function\n",
    "\n",
    "**Lost function** is used to define how close a predict result to expected result.\n",
    "\n",
    "In logistic regression, lost function for each example defined as\n",
    "\n",
    "$$ \\mathcal{L}(a, y) =  - y  \\log(a) - (1-y)  \\log(1-a)\\tag{8}$$\n",
    "\n",
    "There is an explanation by Andrew Ng about [why use this definition](https://www.coursera.org/learn/neural-networks-deep-learning/lecture/SmIbQ/explanation-of-logistic-regression-cost-function-optional).\n",
    "\n",
    "**Cost function** is used to define how close for all predict result to expected result (**label**). The **cost function** defines as the average lost over all the training examples. \n",
    "\n",
    "$$ J = \\frac{1}{m} \\sum_{i=1}^m \\mathcal{L}(a^{(i)}, y^{(i)})\\tag{9}$$\n",
    "\n",
    "Recall that A and Y are both is [1, m]. In order to get sum. We can write one line to get cost from A and Y. We will get an [1, 1] matrix just by dot product [1, m] and [m, 1] . \n",
    "\n",
    "$$J = \\frac{1}{m} \\bigg(-Y \\cdot log(A.T) - (1 - Y) \\cdot log(1-A.T) \\bigg)$$\n",
    "\n",
    "And implemented with numpy in one line"
   ]
  },
  {
   "cell_type": "code",
   "execution_count": 2,
   "metadata": {},
   "outputs": [
    {
     "name": "stdout",
     "output_type": "stream",
     "text": [
      "1.4042604972431578\n"
     ]
    }
   ],
   "source": [
    "cost = (-np.dot(Y, np.log(A.T)) - np.dot(Y, np.log(1 - A.T))) / m\n",
    "print(np.squeeze(cost))"
   ]
  },
  {
   "cell_type": "markdown",
   "metadata": {},
   "source": [
    "## Gradient Decent\n",
    "\n",
    "If I'm dropped randomly in a ski resort, it is less likely that I'm dropped off at the lowest bottom. \n",
    "\n",
    "The gravity will pull you down on the slope when you ski.\n",
    "\n",
    "| | |\n",
    "|:-|:-|\n",
    "|![https://en.wikipedia.org/wiki/Derivative#/media/File:Tangent-calculus.svg](../images/Tangent-calculus.svg.png) |![http://www.eielson.af.mil/News/Article-Display/Article/383457/boosting-morale-at-birch-hill-ski-resort/](../images/ski-lift.JPG) |\n",
    "\n",
    "We also need get the slope when training our model. By moving on the slope direction towards smaller cost, our model will getting better and better. This slope called gradient decent. It is the derivative of the cost function. \n",
    "\n",
    "As we define the cost function as \n",
    "\n",
    "$$ \\mathcal{L}(\\hat{y}, y^{(i)}) =  - y^{(i)}  \\log(\\hat y^{(i)}) - (1-y^{(i)} )  \\log(1-\\hat y^{(i)})\\tag{8}$$\n",
    "\n",
    "Based on the basic calculus equations. \n",
    "\n",
    "$$\n",
    "\\begin{align*} \n",
    "\\big(f(x)g(x)\\big)' &= f(x)g'(x)+f'(x)g(x) \\\\\n",
    "\\big(log(x)\\big)'&=\\frac1x\\\\\n",
    "\\frac{dz}{dx}=\\frac{dz}{dy}.\\frac{dy}{dx}=g'(y)f'(x)&=g'\\big(f(x)\\big)f'(x) \\\\\n",
    "J &= \\frac{1}{m} \\sum_{i=1}^m \\mathcal{L}(a^{(i)}, y^{(i)})\\tag{9}\n",
    "\\end{align*} \n",
    "$$\n",
    "\n",
    "We can get \n",
    "\n",
    "$$\\begin{align*} \n",
    "\\frac{\\partial \\mathcal{L}}{\\partial z} &= \n",
    "\\frac{\\partial \\mathcal{L}}{\\partial \\mathcal{\\hat y}}\\cdot&\n",
    "\\frac{\\partial \\hat{y}}{\\partial {z}}\\\\\n",
    "&=-(\\frac y{\\hat y}+\\frac{1-y}{1-\\hat y}) \\cdot&\\hat y(1-\\hat y)\\\\\n",
    "&=\\hat y - y\\\\\n",
    "\\\\\n",
    "\\frac{\\partial J}{\\partial z} &= \\frac{1}{m} \\sum_{i=1}^m\\frac{\\partial \\mathcal{L}}{\\partial z}\n",
    "\\end{align*} $$\n",
    "\n"
   ]
  },
  {
   "cell_type": "markdown",
   "metadata": {},
   "source": [
    "$$\\begin{align*} \n",
    "dw&=\\frac{1}{m}(A - Y)\\cdot X^T\\\\\n",
    "[1, dim] &\\Leftarrow [1, m] \\cdot  [dim, m]^T \\\\\n",
    "db&=\\frac{1}{m}\\sum_{i=1}^m(A-Y)\n",
    "\\end{align*} $$"
   ]
  },
  {
   "cell_type": "markdown",
   "metadata": {},
   "source": [
    "With the equation for \\\\(dw\\\\) and \\\\(db\\\\), we can easily implemented as."
   ]
  },
  {
   "cell_type": "code",
   "execution_count": 3,
   "metadata": {},
   "outputs": [
    {
     "name": "stdout",
     "output_type": "stream",
     "text": [
      "[[-0.33415942 -0.2731823   0.00633877]] -0.04968219501005455\n"
     ]
    }
   ],
   "source": [
    "dw = np.dot(A - Y, X.T) / m\n",
    "db = np.sum(A - Y) / m\n",
    "print(dw, db)"
   ]
  },
  {
   "cell_type": "markdown",
   "metadata": {},
   "source": [
    "## Backward Propogation\n",
    "\n",
    "Just like when we are in a mountain, we can easy follow the slope to get to the valley. \n",
    "Since we as human is much smaller than the mountain.\n",
    "\n",
    "How about a giant in the mountain. He might never get to the valley by fixed large step. \n",
    "\n",
    "![https://cdn.disclose.tv/sites/default/files/img/inline/2016/09/15/these-megalithic-blocks-are-the-proof-for-a-giant-civilization-in-russia-312175-1.jpg](../images/giant-in-mountain.jpg)\n",
    "\n",
    "\n",
    "Same apply to machine learning. We need to control the step, which is called learning rate \\\\(\\alpha\\\\)to avoid to over shooting. \n",
    "\n",
    "After knowing the gradient decent \\\\(dw\\\\), \\\\(db\\\\) and controlling the learning rate \\\\(\\alpha\\\\) we can update the weights \\\\(w\\\\) and bias \\\\(b\\\\) with following code."
   ]
  },
  {
   "cell_type": "code",
   "execution_count": 4,
   "metadata": {
    "collapsed": true
   },
   "outputs": [],
   "source": [
    "learning_rate = 0.005\n",
    "w = w - learning_rate * dw\n",
    "b = b - learning_rate * b"
   ]
  },
  {
   "cell_type": "markdown",
   "metadata": {},
   "source": [
    "## Whole Algorithm\n",
    "\n",
    "Just like we are in mountain. It's less likely that we will arrive to the valley in one step\n",
    "\n",
    "The same applies to here, we need iterate many times, with all the previous preparations.\n",
    "\n",
    "we can write Pseudo code like this.\n",
    "\n",
    "```python\n",
    "init weight\n",
    "init bias\n",
    "\n",
    "for i in range(number_iterations):\n",
    "    forward_progation\n",
    "    calculate cost\n",
    "    stop iterate if cost already small enough\n",
    "    \n",
    "    calculate gradient decent\n",
    "    update weights and bias\n",
    "```\n",
    "\n",
    "We can implement the previous pseudo code in two functions. "
   ]
  },
  {
   "cell_type": "code",
   "execution_count": 5,
   "metadata": {
    "collapsed": true
   },
   "outputs": [],
   "source": [
    "def propagate(w, b, X, Y):\n",
    "    \"\"\"\n",
    "    w: weights, [1, m]\n",
    "    b: bias, scalar value\n",
    "    X: features, [dim, m]\n",
    "    Y: labels,   [1, m]\n",
    "    \"\"\"\n",
    "    m = X.shape[1]\n",
    "    Z = np.dot(w, X) + b\n",
    "    A = 1.0 / (1.0 + np.exp(-Z))\n",
    "    \n",
    "    dw = np.dot(A - Y, X.T) / m\n",
    "    db = np.sum(A - Y) / m\n",
    "    \n",
    "    return dw, db, A"
   ]
  },
  {
   "cell_type": "code",
   "execution_count": 6,
   "metadata": {
    "collapsed": true
   },
   "outputs": [],
   "source": [
    "def logistic_regression(X, Y, num_iterations=10, learning_rate=0.01):\n",
    "    dim, m = X.shape\n",
    "    w = np.zeros((1, dim)) # Initialize weights to zero\n",
    "    b = 0.0                # Initialize bias    to zero\n",
    "    \n",
    "    costs = []             # save cost for each iteration\n",
    "    \n",
    "    for i in range(num_iterations):\n",
    "        dw, db, A = propagate(w, b, X, Y)\n",
    "        \n",
    "        cost = -(np.dot(Y, np.log(A.T)) + np.dot(1-Y, np.log(1-A.T))) / m\n",
    "\n",
    "        # update weights and bias\n",
    "        w = w - learning_rate * dw\n",
    "        b = b - learning_rate * db\n",
    "        \n",
    "        if i % 100 == 0:\n",
    "            print(i, cost)\n",
    "            \n",
    "        costs.append(cost)\n",
    "        \n",
    "    return w, b, costs, A"
   ]
  },
  {
   "cell_type": "markdown",
   "metadata": {
    "collapsed": true
   },
   "source": [
    "## Get a Data Set\n",
    "\n",
    "There is a cat data set from [coursera deep learning course](https://www.coursera.org/learn/neural-networks-deep-learning/notebook/zAgPl/logistic-regression-with-a-neural-network-mindset)\n",
    "\n",
    "The data set is encoded in HDF5 format which is typically used to store numeric data. \n",
    "\n",
    "The following piece of code is copied from deep learning course to load the cat data"
   ]
  },
  {
   "cell_type": "code",
   "execution_count": 7,
   "metadata": {},
   "outputs": [
    {
     "name": "stderr",
     "output_type": "stream",
     "text": [
      "/Users/rockie/anaconda3/lib/python3.6/site-packages/h5py/__init__.py:36: FutureWarning: Conversion of the second argument of issubdtype from `float` to `np.floating` is deprecated. In future, it will be treated as `np.float64 == np.dtype(float).type`.\n",
      "  from ._conv import register_converters as _register_converters\n"
     ]
    }
   ],
   "source": [
    "import numpy as np\n",
    "import h5py\n",
    "    \n",
    "    \n",
    "train_dataset = h5py.File('../datasets/train_catvnoncat.h5', \"r\")\n",
    "train_set_x_orig = np.array(train_dataset[\"train_set_x\"][:]) # your train set features\n",
    "train_set_y_orig = np.array(train_dataset[\"train_set_y\"][:]) # your train set labels\n",
    "\n",
    "test_dataset = h5py.File('../datasets/test_catvnoncat.h5', \"r\")\n",
    "test_set_x_orig = np.array(test_dataset[\"test_set_x\"][:]) # your test set features\n",
    "test_set_y_orig = np.array(test_dataset[\"test_set_y\"][:]) # your test set labels\n",
    "\n",
    "classes = np.array(test_dataset[\"list_classes\"][:]) # the list of classes\n",
    "\n",
    "train_set_y = train_set_y_orig.reshape((1, train_set_y_orig.shape[0]))\n",
    "test_set_y = test_set_y_orig.reshape((1, test_set_y_orig.shape[0]))"
   ]
  },
  {
   "cell_type": "markdown",
   "metadata": {},
   "source": [
    "The shape of each sample is [64, 64, 3]. Both height and width are 64. \n",
    "\n",
    "Each pixel has 3 values for each channel, Red Green and Blue. \n",
    "The value range for each channel is from 0 which is darkest, to 255 which is the lightest.\n",
    "\n",
    "we can use matplotlib plot a sample."
   ]
  },
  {
   "cell_type": "code",
   "execution_count": 8,
   "metadata": {},
   "outputs": [
    {
     "name": "stdout",
     "output_type": "stream",
     "text": [
      "(64, 64, 3)\n",
      "[188 180 119]\n"
     ]
    },
    {
     "data": {
      "image/png": "[encoded data removed]",
      "text/plain": [
       "<matplotlib.figure.Figure at 0x11b8c6f98>"
      ]
     },
     "metadata": {},
     "output_type": "display_data"
    }
   ],
   "source": [
    "import matplotlib.pyplot as plt\n",
    "%matplotlib inline\n",
    "plt.imshow(train_set_x_orig[10])\n",
    "\n",
    "print(train_set_x_orig[10].shape)\n",
    "print(train_set_x_orig[10][0, 0])"
   ]
  },
  {
   "cell_type": "markdown",
   "metadata": {},
   "source": [
    "## Preprocess the Data\n",
    "\n",
    "A photo has two dimension, x and y. Each point is a pixel. Each pixel in RGB photo has 3 value, Red, Green and Blue. In **Logistic Regression**, we need to convert to one dimension. \n",
    "\n",
    "**Normalize** data will be an important step. Since machine Learning will typically has better result by normalize the value to range [-1, 1], or [0, 1].\n",
    "\n",
    "We can pre-process with the following code. \n",
    "\n",
    "And get dimension 12288 which is 64*64*3. 209 sample for training set and 50 for test set."
   ]
  },
  {
   "cell_type": "code",
   "execution_count": 9,
   "metadata": {},
   "outputs": [
    {
     "name": "stdout",
     "output_type": "stream",
     "text": [
      "(12288, 209) (12288, 50)\n"
     ]
    }
   ],
   "source": [
    "m_train = train_set_x_orig.shape[0]                           # number of train samples\n",
    "m_test = test_set_x_orig.shape[0]                             # number of test samples\n",
    "num_px = train_set_x_orig.shape[1]                            # number pixel on x and y dimension\n",
    "\n",
    "train_set_x = train_set_x_orig.reshape(m_train, -1).T / 255   # normalize pixel value to [0, 1]\n",
    "test_set_x = test_set_x_orig.reshape(m_test, -1).T / 255\n",
    "\n",
    "print(train_set_x.shape, test_set_x.shape)"
   ]
  },
  {
   "cell_type": "markdown",
   "metadata": {},
   "source": [
    "## Train the Model with Logistic Regression\n",
    "\n",
    "We can train model with the data set get weights, bias. "
   ]
  },
  {
   "cell_type": "code",
   "execution_count": 11,
   "metadata": {},
   "outputs": [
    {
     "name": "stdout",
     "output_type": "stream",
     "text": [
      "0 [[0.69314718]]\n",
      "100 [[0.58450836]]\n",
      "200 [[0.46694904]]\n",
      "300 [[0.37600687]]\n",
      "400 [[0.33146329]]\n",
      "500 [[0.30327307]]\n",
      "600 [[0.27987959]]\n",
      "700 [[0.26004214]]\n",
      "800 [[0.24294068]]\n",
      "900 [[0.22800422]]\n",
      "1000 [[0.21481951]]\n",
      "1100 [[0.20307819]]\n",
      "1200 [[0.19254428]]\n",
      "1300 [[0.18303334]]\n",
      "1400 [[0.17439859]]\n",
      "1500 [[0.1665214]]\n",
      "1600 [[0.15930452]]\n",
      "1700 [[0.15266732]]\n",
      "1800 [[0.14654224]]\n",
      "1900 [[0.14087208]]\n",
      "2000 [[0.13560808]]\n"
     ]
    }
   ],
   "source": [
    "w, b, costs, A=logistic_regression(X=train_set_x, Y=train_set_y, num_iterations = 2001, learning_rate = 0.005)"
   ]
  },
  {
   "cell_type": "code",
   "execution_count": 12,
   "metadata": {},
   "outputs": [
    {
     "data": {
      "image/png": "[encoded data removed]",
      "text/plain": [
       "<matplotlib.figure.Figure at 0x11d330c50>"
      ]
     },
     "metadata": {},
     "output_type": "display_data"
    }
   ],
   "source": [
    "plt.plot(np.squeeze(costs))\n",
    "plt.ylabel('cost')\n",
    "plt.xlabel('iterations (per hundreds)')\n",
    "plt.title(\"Learning rate =\" + str(learning_rate))\n",
    "plt.show()"
   ]
  },
  {
   "cell_type": "code",
   "execution_count": 13,
   "metadata": {},
   "outputs": [
    {
     "data": {
      "text/plain": [
       "[array([[0.69314718]]),\n",
       " array([[0.74102941]]),\n",
       " array([[0.75315358]]),\n",
       " array([[0.8667087]]),\n",
       " array([[0.7685635]]),\n",
       " array([[0.89701447]]),\n",
       " array([[0.75561323]]),\n",
       " array([[0.88043664]]),\n",
       " array([[0.75148527]]),\n",
       " array([[0.87713305]])]"
      ]
     },
     "execution_count": 13,
     "metadata": {},
     "output_type": "execute_result"
    }
   ],
   "source": [
    "costs[:10]"
   ]
  },
  {
   "cell_type": "markdown",
   "metadata": {},
   "source": [
    "## How Good is the Model on the Sample it has Seen"
   ]
  },
  {
   "cell_type": "code",
   "execution_count": 14,
   "metadata": {},
   "outputs": [
    {
     "name": "stdout",
     "output_type": "stream",
     "text": [
      "train accuracy 0.9904306220095693\n",
      "wrong predict on sample  41  to  [0] which should be [1]\n"
     ]
    },
    {
     "data": {
      "text/plain": [
       "<matplotlib.image.AxesImage at 0x11ed1cda0>"
      ]
     },
     "execution_count": 14,
     "metadata": {},
     "output_type": "execute_result"
    },
    {
     "data": {
      "image/png": "[encoded data removed]",
      "text/plain": [
       "<matplotlib.figure.Figure at 0x11ec06518>"
      ]
     },
     "metadata": {},
     "output_type": "display_data"
    }
   ],
   "source": [
    "train_predict = np.where(A >= 0.5, 1, 0)\n",
    "train_accuracy = np.sum(train_predict == train_set_y) / train_set_y.shape[1]\n",
    "print(\"train accuracy\", train_accuracy)\n",
    "\n",
    "wrong_index = np.argmax(train_predict != train_set_y)\n",
    "print(\"wrong predict on sample \", wrong_index, \" to \", train_predict[:, wrong_index], \"which should be\", train_set_y[:, wrong_index])\n",
    "plt.imshow(train_set_x_orig[wrong_index])"
   ]
  },
  {
   "cell_type": "markdown",
   "metadata": {},
   "source": [
    "Will you say that is a cat? :-("
   ]
  },
  {
   "cell_type": "markdown",
   "metadata": {},
   "source": [
    "## How Good is the Model on the Sample it has not seen"
   ]
  },
  {
   "cell_type": "code",
   "execution_count": 15,
   "metadata": {},
   "outputs": [
    {
     "name": "stdout",
     "output_type": "stream",
     "text": [
      "test accuracy 0.7\n",
      "wrong predict on sample  5  to  [1] which should be [0]\n"
     ]
    },
    {
     "data": {
      "text/plain": [
       "<matplotlib.image.AxesImage at 0x11ed869b0>"
      ]
     },
     "execution_count": 15,
     "metadata": {},
     "output_type": "execute_result"
    },
    {
     "data": {
      "image/png": "[encoded data removed]",
      "text/plain": [
       "<matplotlib.figure.Figure at 0x11ec8da90>"
      ]
     },
     "metadata": {},
     "output_type": "display_data"
    }
   ],
   "source": [
    "def predict(w, b, X):\n",
    "    Z = np.dot(w, X)\n",
    "    A = 1.0 / (1.0 + np.exp(-Z))\n",
    "    return np.where(A >= 0.5, 1, 0)\n",
    "\n",
    "test_predict = predict(w, b, test_set_x)\n",
    "test_accuracy = np.sum(test_predict == test_set_y) / test_set_y.shape[1]\n",
    "print(\"test accuracy\", test_accuracy)\n",
    "\n",
    "wrong_index = np.argmax(test_predict != test_set_y)\n",
    "print(\"wrong predict on sample \", wrong_index, \" to \", test_predict[:, wrong_index], \"which should be\", test_set_y[:, wrong_index])\n",
    "plt.imshow(test_set_x_orig[wrong_index])\n"
   ]
  },
  {
   "cell_type": "markdown",
   "metadata": {},
   "source": [
    "This seems is not a cat. :-("
   ]
  },
  {
   "cell_type": "markdown",
   "metadata": {},
   "source": [
    "## Why does the Model have Low Accuracy?\n",
    "\n",
    "With previous logistic regression. We got training set accuracy 99%, and test set accuracy 70%.\n",
    "\n",
    "70%, not very impressive, right. But why?\n",
    "\n",
    "A simple answer is that the model is too simple to catch the characteristics. \n",
    "\n",
    "We will try to improve it in the next blog."
   ]
  },
  {
   "cell_type": "markdown",
   "metadata": {},
   "source": [
    "### Reference\n",
    "\n",
    "1. [deep learning](https://www.coursera.org/learn/neural-networks-deep-learning)"
   ]
  },
  {
   "cell_type": "code",
   "execution_count": null,
   "metadata": {
    "collapsed": true
   },
   "outputs": [],
   "source": []
  }
 ],
 "metadata": {
  "kernelspec": {
   "display_name": "Python 3",
   "language": "python",
   "name": "python3"
  },
  "language_info": {
   "codemirror_mode": {
    "name": "ipython",
    "version": 3
   },
   "file_extension": ".py",
   "mimetype": "text/x-python",
   "name": "python",
   "nbconvert_exporter": "python",
   "pygments_lexer": "ipython3",
   "version": "3.6.3"
  }
 },
 "nbformat": 4,
 "nbformat_minor": 2
}
