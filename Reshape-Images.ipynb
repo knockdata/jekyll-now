{
 "cells": [
  {
   "cell_type": "code",
   "execution_count": 46,
   "metadata": {},
   "outputs": [],
   "source": [
    "import cv2\n",
    "import os\n",
    "import numpy as np\n",
    "\n",
    "def get_images_startswith(images_folder, startswith):\n",
    "    filenames = os.listdir(images_folder)\n",
    "    image_filenames = [filename for filename in filenames if filename.startswith(startswith)]\n",
    "    images = {filename: cv2.imread(os.path.join(images_folder, filename)) for filename in image_filenames}\n",
    "    return images\n",
    "\n",
    "def pad_images_to_same_width(images, padding=\"right\", color=\"white\"):\n",
    "    max_width = max([img.shape[1] for img in spark_images.values()])\n",
    "    \n",
    "    if color == \"white\":\n",
    "        constant_values=255\n",
    "    elif color == \"black\":\n",
    "        constant_values=0\n",
    "    else:\n",
    "        constant_values == color\n",
    "        \n",
    "    for filename, img in images.items():\n",
    "        padding_width = max_width - img.shape[1]\n",
    "        if padding == \"right\":\n",
    "            pad_width = (0, 0), (0, padding_width), (0, 0)\n",
    "        elif padding == \"left\":\n",
    "            pad_width = (0, 0), (padding_width, 0), (0, 0)\n",
    "        else: # center\n",
    "            pad_width = (0, 0), (padding_width/2, padding_width/2), (0, 0)\n",
    "\n",
    "        new_img = np.pad(img, pad_width, \"constant\", constant_values=constant_values)\n",
    "        yield filename, new_img\n",
    "                \n",
    "def save_images(images, target_folder):\n",
    "    \n",
    "    for filename, img in images:\n",
    "        cv2.imwrite(os.path.join(target_folder, filename), img)"
   ]
  },
  {
   "cell_type": "code",
   "execution_count": 47,
   "metadata": {},
   "outputs": [],
   "source": [
    "images = get_images_startswith(\"images\", \"spark-window-function\")\n",
    "new_images = pad_images_to_same_width(images)\n",
    "save_images(new_images, \"tmp\")"
   ]
  },
  {
   "cell_type": "code",
   "execution_count": null,
   "metadata": {},
   "outputs": [],
   "source": []
  }
 ],
 "metadata": {
  "kernelspec": {
   "display_name": "Python 3",
   "language": "python",
   "name": "python3"
  },
  "language_info": {
   "codemirror_mode": {
    "name": "ipython",
    "version": 3
   },
   "file_extension": ".py",
   "mimetype": "text/x-python",
   "name": "python",
   "nbconvert_exporter": "python",
   "pygments_lexer": "ipython3",
   "version": "3.7.1"
  }
 },
 "nbformat": 4,
 "nbformat_minor": 2
}
